{
 "cells": [
  {
   "cell_type": "markdown",
   "id": "4185a74f-ad1e-4c9e-ae1e-b34a6e8ec484",
   "metadata": {},
   "source": [
    "# Decision Tree para regresión\n",
    "- Fuente ejemplo: https://towardsdatascience.com/train-a-regression-model-using-a-decision-tree-70012c22bcc1\n",
    "- Base de datos: https://towardsdatascience.com/train-a-regression-model-using-a-decision-tree-70012c22bcc1\n",
    "- Documentación: https://scikit-learn.org/stable/modules/generated/sklearn.tree.DecisionTreeRegressor.html\n",
    "- Objetivo: Predecir precio de casas en California"
   ]
  },
  {
   "cell_type": "markdown",
   "id": "cbc40749-e98b-4449-85c3-ce63cb4fedc2",
   "metadata": {},
   "source": [
    "## 1. Cargar librerías y datos\n",
    "### Librerías"
   ]
  },
  {
   "cell_type": "code",
   "execution_count": 2,
   "id": "f44129cf-6192-4680-b184-09d5273a3cc0",
   "metadata": {},
   "outputs": [],
   "source": [
    "#Manejo de datos\n",
    "import pandas as pd\n",
    "import numpy as np\n",
    "\n",
    "#Gráficas\n",
    "import seaborn as sb\n",
    "import matplotlib.pyplot as plt\n",
    "\n",
    "#Modelo\n",
    "from sklearn.model_selection import train_test_split\n",
    "from sklearn.tree import DecisionTreeRegressor\n",
    "from sklearn.model_selection import cross_val_score\n",
    "from sklearn.model_selection import GridSearchCV\n",
    "\n",
    "#Métricas\n",
    "from sklearn.metrics import mean_squared_error as mse\n",
    "from sklearn.metrics import explained_variance_score"
   ]
  },
  {
   "cell_type": "markdown",
   "id": "36722a4c-5f91-4ccb-b97f-2151db0a2572",
   "metadata": {},
   "source": [
    "### Datos\n",
    "Popular precios de casas en California"
   ]
  },
  {
   "cell_type": "code",
   "execution_count": 3,
   "id": "cd0a013e-06c5-4e01-b027-c7fc60b969e2",
   "metadata": {},
   "outputs": [
    {
     "data": {
      "text/html": [
       "<div>\n",
       "<style scoped>\n",
       "    .dataframe tbody tr th:only-of-type {\n",
       "        vertical-align: middle;\n",
       "    }\n",
       "\n",
       "    .dataframe tbody tr th {\n",
       "        vertical-align: top;\n",
       "    }\n",
       "\n",
       "    .dataframe thead th {\n",
       "        text-align: right;\n",
       "    }\n",
       "</style>\n",
       "<table border=\"1\" class=\"dataframe\">\n",
       "  <thead>\n",
       "    <tr style=\"text-align: right;\">\n",
       "      <th></th>\n",
       "      <th>MedInc</th>\n",
       "      <th>HouseAge</th>\n",
       "      <th>AveRooms</th>\n",
       "      <th>AveBedrms</th>\n",
       "      <th>Population</th>\n",
       "      <th>AveOccup</th>\n",
       "      <th>Latitude</th>\n",
       "      <th>Longitude</th>\n",
       "      <th>MedHouseVal</th>\n",
       "    </tr>\n",
       "  </thead>\n",
       "  <tbody>\n",
       "    <tr>\n",
       "      <th>0</th>\n",
       "      <td>8.3252</td>\n",
       "      <td>41.0</td>\n",
       "      <td>6.984127</td>\n",
       "      <td>1.023810</td>\n",
       "      <td>322.0</td>\n",
       "      <td>2.555556</td>\n",
       "      <td>37.88</td>\n",
       "      <td>-122.23</td>\n",
       "      <td>4.526</td>\n",
       "    </tr>\n",
       "    <tr>\n",
       "      <th>1</th>\n",
       "      <td>8.3014</td>\n",
       "      <td>21.0</td>\n",
       "      <td>6.238137</td>\n",
       "      <td>0.971880</td>\n",
       "      <td>2401.0</td>\n",
       "      <td>2.109842</td>\n",
       "      <td>37.86</td>\n",
       "      <td>-122.22</td>\n",
       "      <td>3.585</td>\n",
       "    </tr>\n",
       "    <tr>\n",
       "      <th>2</th>\n",
       "      <td>7.2574</td>\n",
       "      <td>52.0</td>\n",
       "      <td>8.288136</td>\n",
       "      <td>1.073446</td>\n",
       "      <td>496.0</td>\n",
       "      <td>2.802260</td>\n",
       "      <td>37.85</td>\n",
       "      <td>-122.24</td>\n",
       "      <td>3.521</td>\n",
       "    </tr>\n",
       "    <tr>\n",
       "      <th>3</th>\n",
       "      <td>5.6431</td>\n",
       "      <td>52.0</td>\n",
       "      <td>5.817352</td>\n",
       "      <td>1.073059</td>\n",
       "      <td>558.0</td>\n",
       "      <td>2.547945</td>\n",
       "      <td>37.85</td>\n",
       "      <td>-122.25</td>\n",
       "      <td>3.413</td>\n",
       "    </tr>\n",
       "    <tr>\n",
       "      <th>4</th>\n",
       "      <td>3.8462</td>\n",
       "      <td>52.0</td>\n",
       "      <td>6.281853</td>\n",
       "      <td>1.081081</td>\n",
       "      <td>565.0</td>\n",
       "      <td>2.181467</td>\n",
       "      <td>37.85</td>\n",
       "      <td>-122.25</td>\n",
       "      <td>3.422</td>\n",
       "    </tr>\n",
       "  </tbody>\n",
       "</table>\n",
       "</div>"
      ],
      "text/plain": [
       "   MedInc  HouseAge  AveRooms  AveBedrms  Population  AveOccup  Latitude  \\\n",
       "0  8.3252      41.0  6.984127   1.023810       322.0  2.555556     37.88   \n",
       "1  8.3014      21.0  6.238137   0.971880      2401.0  2.109842     37.86   \n",
       "2  7.2574      52.0  8.288136   1.073446       496.0  2.802260     37.85   \n",
       "3  5.6431      52.0  5.817352   1.073059       558.0  2.547945     37.85   \n",
       "4  3.8462      52.0  6.281853   1.081081       565.0  2.181467     37.85   \n",
       "\n",
       "   Longitude  MedHouseVal  \n",
       "0    -122.23        4.526  \n",
       "1    -122.22        3.585  \n",
       "2    -122.24        3.521  \n",
       "3    -122.25        3.413  \n",
       "4    -122.25        3.422  "
      ]
     },
     "execution_count": 3,
     "metadata": {},
     "output_type": "execute_result"
    }
   ],
   "source": [
    "#DataSet de la propia librería\n",
    "df = pd.read_csv('cali_housing.csv')\n",
    "df.head()"
   ]
  },
  {
   "cell_type": "markdown",
   "id": "be047455-685e-4ff9-b66b-759824a17b2e",
   "metadata": {},
   "source": [
    "## 2. Comprensión inicial de los datos\n",
    "### Datos generales"
   ]
  },
  {
   "cell_type": "code",
   "execution_count": 4,
   "id": "43b6589e-76ee-4929-b62f-8bf52a46f4ce",
   "metadata": {},
   "outputs": [
    {
     "data": {
      "text/html": [
       "<div>\n",
       "<style scoped>\n",
       "    .dataframe tbody tr th:only-of-type {\n",
       "        vertical-align: middle;\n",
       "    }\n",
       "\n",
       "    .dataframe tbody tr th {\n",
       "        vertical-align: top;\n",
       "    }\n",
       "\n",
       "    .dataframe thead th {\n",
       "        text-align: right;\n",
       "    }\n",
       "</style>\n",
       "<table border=\"1\" class=\"dataframe\">\n",
       "  <thead>\n",
       "    <tr style=\"text-align: right;\">\n",
       "      <th></th>\n",
       "      <th>MedInc</th>\n",
       "      <th>HouseAge</th>\n",
       "      <th>AveRooms</th>\n",
       "      <th>AveBedrms</th>\n",
       "      <th>Population</th>\n",
       "      <th>AveOccup</th>\n",
       "      <th>Latitude</th>\n",
       "      <th>Longitude</th>\n",
       "      <th>MedHouseVal</th>\n",
       "    </tr>\n",
       "  </thead>\n",
       "  <tbody>\n",
       "    <tr>\n",
       "      <th>count</th>\n",
       "      <td>20640.000000</td>\n",
       "      <td>20640.000000</td>\n",
       "      <td>20640.000000</td>\n",
       "      <td>20640.000000</td>\n",
       "      <td>20640.000000</td>\n",
       "      <td>20640.000000</td>\n",
       "      <td>20640.000000</td>\n",
       "      <td>20640.000000</td>\n",
       "      <td>20640.000000</td>\n",
       "    </tr>\n",
       "    <tr>\n",
       "      <th>mean</th>\n",
       "      <td>3.870671</td>\n",
       "      <td>28.639486</td>\n",
       "      <td>5.429000</td>\n",
       "      <td>1.096675</td>\n",
       "      <td>1425.476744</td>\n",
       "      <td>3.070655</td>\n",
       "      <td>35.631861</td>\n",
       "      <td>-119.569704</td>\n",
       "      <td>2.068558</td>\n",
       "    </tr>\n",
       "    <tr>\n",
       "      <th>std</th>\n",
       "      <td>1.899822</td>\n",
       "      <td>12.585558</td>\n",
       "      <td>2.474173</td>\n",
       "      <td>0.473911</td>\n",
       "      <td>1132.462122</td>\n",
       "      <td>10.386050</td>\n",
       "      <td>2.135952</td>\n",
       "      <td>2.003532</td>\n",
       "      <td>1.153956</td>\n",
       "    </tr>\n",
       "    <tr>\n",
       "      <th>min</th>\n",
       "      <td>0.499900</td>\n",
       "      <td>1.000000</td>\n",
       "      <td>0.846154</td>\n",
       "      <td>0.333333</td>\n",
       "      <td>3.000000</td>\n",
       "      <td>0.692308</td>\n",
       "      <td>32.540000</td>\n",
       "      <td>-124.350000</td>\n",
       "      <td>0.149990</td>\n",
       "    </tr>\n",
       "    <tr>\n",
       "      <th>25%</th>\n",
       "      <td>2.563400</td>\n",
       "      <td>18.000000</td>\n",
       "      <td>4.440716</td>\n",
       "      <td>1.006079</td>\n",
       "      <td>787.000000</td>\n",
       "      <td>2.429741</td>\n",
       "      <td>33.930000</td>\n",
       "      <td>-121.800000</td>\n",
       "      <td>1.196000</td>\n",
       "    </tr>\n",
       "    <tr>\n",
       "      <th>50%</th>\n",
       "      <td>3.534800</td>\n",
       "      <td>29.000000</td>\n",
       "      <td>5.229129</td>\n",
       "      <td>1.048780</td>\n",
       "      <td>1166.000000</td>\n",
       "      <td>2.818116</td>\n",
       "      <td>34.260000</td>\n",
       "      <td>-118.490000</td>\n",
       "      <td>1.797000</td>\n",
       "    </tr>\n",
       "    <tr>\n",
       "      <th>75%</th>\n",
       "      <td>4.743250</td>\n",
       "      <td>37.000000</td>\n",
       "      <td>6.052381</td>\n",
       "      <td>1.099526</td>\n",
       "      <td>1725.000000</td>\n",
       "      <td>3.282261</td>\n",
       "      <td>37.710000</td>\n",
       "      <td>-118.010000</td>\n",
       "      <td>2.647250</td>\n",
       "    </tr>\n",
       "    <tr>\n",
       "      <th>max</th>\n",
       "      <td>15.000100</td>\n",
       "      <td>52.000000</td>\n",
       "      <td>141.909091</td>\n",
       "      <td>34.066667</td>\n",
       "      <td>35682.000000</td>\n",
       "      <td>1243.333333</td>\n",
       "      <td>41.950000</td>\n",
       "      <td>-114.310000</td>\n",
       "      <td>5.000010</td>\n",
       "    </tr>\n",
       "  </tbody>\n",
       "</table>\n",
       "</div>"
      ],
      "text/plain": [
       "             MedInc      HouseAge      AveRooms     AveBedrms    Population  \\\n",
       "count  20640.000000  20640.000000  20640.000000  20640.000000  20640.000000   \n",
       "mean       3.870671     28.639486      5.429000      1.096675   1425.476744   \n",
       "std        1.899822     12.585558      2.474173      0.473911   1132.462122   \n",
       "min        0.499900      1.000000      0.846154      0.333333      3.000000   \n",
       "25%        2.563400     18.000000      4.440716      1.006079    787.000000   \n",
       "50%        3.534800     29.000000      5.229129      1.048780   1166.000000   \n",
       "75%        4.743250     37.000000      6.052381      1.099526   1725.000000   \n",
       "max       15.000100     52.000000    141.909091     34.066667  35682.000000   \n",
       "\n",
       "           AveOccup      Latitude     Longitude   MedHouseVal  \n",
       "count  20640.000000  20640.000000  20640.000000  20640.000000  \n",
       "mean       3.070655     35.631861   -119.569704      2.068558  \n",
       "std       10.386050      2.135952      2.003532      1.153956  \n",
       "min        0.692308     32.540000   -124.350000      0.149990  \n",
       "25%        2.429741     33.930000   -121.800000      1.196000  \n",
       "50%        2.818116     34.260000   -118.490000      1.797000  \n",
       "75%        3.282261     37.710000   -118.010000      2.647250  \n",
       "max     1243.333333     41.950000   -114.310000      5.000010  "
      ]
     },
     "execution_count": 4,
     "metadata": {},
     "output_type": "execute_result"
    }
   ],
   "source": [
    "#Descripción general de los datos\n",
    "df.describe()"
   ]
  },
  {
   "cell_type": "markdown",
   "id": "1474e60d-2836-4f32-b487-cc71da73e286",
   "metadata": {},
   "source": [
    "### Revisión gráfica"
   ]
  },
  {
   "cell_type": "code",
   "execution_count": 5,
   "id": "8f5ac453-b6a0-4ce1-b62e-68e8c5bd75c4",
   "metadata": {},
   "outputs": [
    {
     "data": {
      "text/plain": [
       "<AxesSubplot:xlabel='Longitude', ylabel='MedHouseVal'>"
      ]
     },
     "execution_count": 5,
     "metadata": {},
     "output_type": "execute_result"
    },
    {
     "data": {
      "image/png": "[encoded data removed]",
      "text/plain": [
       "<Figure size 432x288 with 1 Axes>"
      ]
     },
     "metadata": {
      "needs_background": "light"
     },
     "output_type": "display_data"
    }
   ],
   "source": [
    "#Gráfica para verificar la relación no lineal\n",
    "sb.scatterplot(x=df['Longitude'],y=df['MedHouseVal'])"
   ]
  },
  {
   "cell_type": "code",
   "execution_count": 6,
   "id": "7a61c02a-04c7-4ea8-abd9-ef4671a7ae29",
   "metadata": {},
   "outputs": [
    {
     "data": {
      "text/plain": [
       "<AxesSubplot:>"
      ]
     },
     "execution_count": 6,
     "metadata": {},
     "output_type": "execute_result"
    },
    {
     "data": {
      "image/png": "[encoded data removed]",
      "text/plain": [
       "<Figure size 432x288 with 1 Axes>"
      ]
     },
     "metadata": {
      "needs_background": "light"
     },
     "output_type": "display_data"
    }
   ],
   "source": [
    "#Histogramas de las variables numéricas\n",
    "df['MedHouseVal'].hist()"
   ]
  },
  {
   "cell_type": "markdown",
   "id": "aa08d4db-1ff9-4441-bc1a-38265a534c78",
   "metadata": {},
   "source": [
    "## 3. Peparación de DataFrame"
   ]
  },
  {
   "cell_type": "markdown",
   "id": "c7263078-2c8b-4644-90e5-d8fb5a0e4f4b",
   "metadata": {},
   "source": [
    "### DataFrame definitivo"
   ]
  },
  {
   "cell_type": "code",
   "execution_count": 7,
   "id": "b6804b59-4053-4e66-8118-48517b4fa3d9",
   "metadata": {},
   "outputs": [
    {
     "name": "stdout",
     "output_type": "stream",
     "text": [
      "   MedInc  HouseAge  AveRooms  AveBedrms  Population  AveOccup  Latitude  \\\n",
      "0  8.3252      41.0  6.984127   1.023810       322.0  2.555556     37.88   \n",
      "1  8.3014      21.0  6.238137   0.971880      2401.0  2.109842     37.86   \n",
      "2  7.2574      52.0  8.288136   1.073446       496.0  2.802260     37.85   \n",
      "3  5.6431      52.0  5.817352   1.073059       558.0  2.547945     37.85   \n",
      "4  3.8462      52.0  6.281853   1.081081       565.0  2.181467     37.85   \n",
      "5  4.0368      52.0  4.761658   1.103627       413.0  2.139896     37.85   \n",
      "6  3.6591      52.0  4.931907   0.951362      1094.0  2.128405     37.84   \n",
      "7  3.1200      52.0  4.797527   1.061824      1157.0  1.788253     37.84   \n",
      "8  2.0804      42.0  4.294118   1.117647      1206.0  2.026891     37.84   \n",
      "9  3.6912      52.0  4.970588   0.990196      1551.0  2.172269     37.84   \n",
      "\n",
      "   Longitude  \n",
      "0    -122.23  \n",
      "1    -122.22  \n",
      "2    -122.24  \n",
      "3    -122.25  \n",
      "4    -122.25  \n",
      "5    -122.25  \n",
      "6    -122.25  \n",
      "7    -122.25  \n",
      "8    -122.26  \n",
      "9    -122.25  \n",
      "\n",
      " MedHouseVal\n",
      "0    4.526\n",
      "1    3.585\n",
      "2    3.521\n",
      "3    3.413\n",
      "4    3.422\n",
      "5    2.697\n",
      "6    2.992\n",
      "7    2.414\n",
      "8    2.267\n",
      "9    2.611\n",
      "Name: MedHouseVal, dtype: float64\n"
     ]
    }
   ],
   "source": [
    "#features: variables independientes\n",
    "X = df.drop(columns=['MedHouseVal'],axis=1)\n",
    "#primeros 10 valores\n",
    "print(X.head(10))\n",
    "\n",
    "#Variable respuesta, dependiente\n",
    "y = df['MedHouseVal']\n",
    "#primeros 10 valores\n",
    "print(\"\\n MedHouseVal\")\n",
    "print(y.head(10))"
   ]
  },
  {
   "cell_type": "markdown",
   "id": "cf58f62c-dc0e-4faf-9538-654e50c61af2",
   "metadata": {},
   "source": [
    "### Train-Test split"
   ]
  },
  {
   "cell_type": "code",
   "execution_count": 8,
   "id": "d022b4de-88eb-4587-ab1f-40b0a5ea8fa2",
   "metadata": {},
   "outputs": [
    {
     "name": "stdout",
     "output_type": "stream",
     "text": [
      "Train shape\n",
      "X_train:(15480, 8)\n",
      "y_train:(15480,)\n",
      "Test shape\n",
      "X_test:(5160, 8)\n",
      "y_test:(5160,)\n"
     ]
    }
   ],
   "source": [
    "#División de datos para training y testing\n",
    "X_train, X_test, y_train, y_test = train_test_split(X, y, random_state=0)\n",
    "print(\"Train shape\")\n",
    "print(\"X_train:\" + str(X_train.shape))\n",
    "print(\"y_train:\" + str(y_train.shape))\n",
    "print(\"Test shape\")\n",
    "print(\"X_test:\" + str(X_test.shape))\n",
    "print(\"y_test:\" + str(y_test.shape))"
   ]
  },
  {
   "cell_type": "code",
   "execution_count": 9,
   "id": "f33d992b-487d-42c1-b31c-180d9b446ec1",
   "metadata": {},
   "outputs": [
    {
     "data": {
      "text/html": [
       "<div>\n",
       "<style scoped>\n",
       "    .dataframe tbody tr th:only-of-type {\n",
       "        vertical-align: middle;\n",
       "    }\n",
       "\n",
       "    .dataframe tbody tr th {\n",
       "        vertical-align: top;\n",
       "    }\n",
       "\n",
       "    .dataframe thead th {\n",
       "        text-align: right;\n",
       "    }\n",
       "</style>\n",
       "<table border=\"1\" class=\"dataframe\">\n",
       "  <thead>\n",
       "    <tr style=\"text-align: right;\">\n",
       "      <th></th>\n",
       "      <th>MedInc</th>\n",
       "      <th>HouseAge</th>\n",
       "      <th>AveRooms</th>\n",
       "      <th>AveBedrms</th>\n",
       "      <th>Population</th>\n",
       "      <th>AveOccup</th>\n",
       "      <th>Latitude</th>\n",
       "      <th>Longitude</th>\n",
       "    </tr>\n",
       "  </thead>\n",
       "  <tbody>\n",
       "    <tr>\n",
       "      <th>19226</th>\n",
       "      <td>7.3003</td>\n",
       "      <td>19.0</td>\n",
       "      <td>7.961600</td>\n",
       "      <td>1.137600</td>\n",
       "      <td>1926.0</td>\n",
       "      <td>3.081600</td>\n",
       "      <td>38.46</td>\n",
       "      <td>-122.68</td>\n",
       "    </tr>\n",
       "    <tr>\n",
       "      <th>14549</th>\n",
       "      <td>5.9547</td>\n",
       "      <td>18.0</td>\n",
       "      <td>6.547325</td>\n",
       "      <td>1.102881</td>\n",
       "      <td>547.0</td>\n",
       "      <td>2.251029</td>\n",
       "      <td>32.95</td>\n",
       "      <td>-117.24</td>\n",
       "    </tr>\n",
       "    <tr>\n",
       "      <th>9093</th>\n",
       "      <td>3.2125</td>\n",
       "      <td>19.0</td>\n",
       "      <td>5.207547</td>\n",
       "      <td>1.216981</td>\n",
       "      <td>314.0</td>\n",
       "      <td>2.962264</td>\n",
       "      <td>34.68</td>\n",
       "      <td>-118.27</td>\n",
       "    </tr>\n",
       "    <tr>\n",
       "      <th>12213</th>\n",
       "      <td>6.9930</td>\n",
       "      <td>13.0</td>\n",
       "      <td>6.428571</td>\n",
       "      <td>1.000000</td>\n",
       "      <td>120.0</td>\n",
       "      <td>2.857143</td>\n",
       "      <td>33.51</td>\n",
       "      <td>-117.18</td>\n",
       "    </tr>\n",
       "    <tr>\n",
       "      <th>12765</th>\n",
       "      <td>2.5162</td>\n",
       "      <td>21.0</td>\n",
       "      <td>4.429348</td>\n",
       "      <td>1.036685</td>\n",
       "      <td>1735.0</td>\n",
       "      <td>2.357337</td>\n",
       "      <td>38.62</td>\n",
       "      <td>-121.41</td>\n",
       "    </tr>\n",
       "  </tbody>\n",
       "</table>\n",
       "</div>"
      ],
      "text/plain": [
       "       MedInc  HouseAge  AveRooms  AveBedrms  Population  AveOccup  Latitude  \\\n",
       "19226  7.3003      19.0  7.961600   1.137600      1926.0  3.081600     38.46   \n",
       "14549  5.9547      18.0  6.547325   1.102881       547.0  2.251029     32.95   \n",
       "9093   3.2125      19.0  5.207547   1.216981       314.0  2.962264     34.68   \n",
       "12213  6.9930      13.0  6.428571   1.000000       120.0  2.857143     33.51   \n",
       "12765  2.5162      21.0  4.429348   1.036685      1735.0  2.357337     38.62   \n",
       "\n",
       "       Longitude  \n",
       "19226    -122.68  \n",
       "14549    -117.24  \n",
       "9093     -118.27  \n",
       "12213    -117.18  \n",
       "12765    -121.41  "
      ]
     },
     "execution_count": 9,
     "metadata": {},
     "output_type": "execute_result"
    }
   ],
   "source": [
    "X_train.head()"
   ]
  },
  {
   "cell_type": "code",
   "execution_count": 10,
   "id": "9bfe1917-6ac7-47e6-8e44-a9ad22a43c32",
   "metadata": {},
   "outputs": [
    {
     "data": {
      "text/plain": [
       "19226    3.81300\n",
       "14549    3.29300\n",
       "9093     1.85400\n",
       "12213    5.00001\n",
       "12765    0.97500\n",
       "Name: MedHouseVal, dtype: float64"
      ]
     },
     "execution_count": 10,
     "metadata": {},
     "output_type": "execute_result"
    }
   ],
   "source": [
    "y_train.head()"
   ]
  },
  {
   "cell_type": "markdown",
   "id": "105812e4-a7b1-4a0f-b355-24f6ef2fa3fd",
   "metadata": {},
   "source": [
    "## 4. Modelo"
   ]
  },
  {
   "cell_type": "markdown",
   "id": "63cc4078-9d29-4ec2-aa82-78f2b3b0248d",
   "metadata": {},
   "source": [
    "### 4.1 Modelo DTR con error cuadrático medio\n",
    "#### Entrenamiento"
   ]
  },
  {
   "cell_type": "code",
   "execution_count": 11,
   "id": "683e2864-a8d0-4758-8287-725f9f1b3ed5",
   "metadata": {},
   "outputs": [
    {
     "data": {
      "text/plain": [
       "DecisionTreeRegressor(max_depth=10, random_state=1)"
      ]
     },
     "execution_count": 11,
     "metadata": {},
     "output_type": "execute_result"
    }
   ],
   "source": [
    "#Entrenamiento\n",
    "dtr1 = DecisionTreeRegressor(criterion='squared_error',max_depth=10,random_state=1)\n",
    "dtr1.fit(X_train, y_train)"
   ]
  },
  {
   "cell_type": "code",
   "execution_count": 12,
   "id": "1f6fdec8-b068-43d4-aade-12bdf45c8956",
   "metadata": {},
   "outputs": [
    {
     "data": {
      "text/plain": [
       "0.8369838179078153"
      ]
     },
     "execution_count": 12,
     "metadata": {},
     "output_type": "execute_result"
    }
   ],
   "source": [
    "#Score: Coeficiente de determinación r^2\n",
    "dtr1.score(X_train, y_train)"
   ]
  },
  {
   "cell_type": "code",
   "execution_count": 13,
   "id": "1bace193-d23a-480e-94c7-d6b85fa3b390",
   "metadata": {},
   "outputs": [
    {
     "data": {
      "text/plain": [
       "10"
      ]
     },
     "execution_count": 13,
     "metadata": {},
     "output_type": "execute_result"
    }
   ],
   "source": [
    "#profundidad del árbol\n",
    "dtr1.get_depth()"
   ]
  },
  {
   "cell_type": "code",
   "execution_count": 14,
   "id": "46fed5a8-1e15-41cf-af68-493affef3397",
   "metadata": {},
   "outputs": [
    {
     "data": {
      "text/plain": [
       "771"
      ]
     },
     "execution_count": 14,
     "metadata": {},
     "output_type": "execute_result"
    }
   ],
   "source": [
    "#leaves: número de hojas del árbol\n",
    "dtr1.get_n_leaves()"
   ]
  },
  {
   "cell_type": "code",
   "execution_count": 15,
   "id": "2ccc7918-8a26-4d2d-986c-e79e67b9af95",
   "metadata": {},
   "outputs": [
    {
     "data": {
      "text/plain": [
       "array([[1, 0, 0, ..., 0, 0, 0],\n",
       "       [1, 0, 0, ..., 0, 0, 0],\n",
       "       [1, 1, 0, ..., 0, 0, 0],\n",
       "       ...,\n",
       "       [1, 1, 0, ..., 0, 0, 0],\n",
       "       [1, 0, 0, ..., 0, 0, 0],\n",
       "       [1, 1, 1, ..., 0, 0, 0]], dtype=int64)"
      ]
     },
     "execution_count": 15,
     "metadata": {},
     "output_type": "execute_result"
    }
   ],
   "source": [
    "#ruta de decision\n",
    "path = dtr1.decision_path(X_train)\n",
    "path.toarray()"
   ]
  },
  {
   "cell_type": "markdown",
   "id": "387a0ca1-1e1f-4f19-bdb6-72445abf493a",
   "metadata": {},
   "source": [
    "#### Predicción"
   ]
  },
  {
   "cell_type": "code",
   "execution_count": 16,
   "id": "7db973bc-8afb-4014-9b1a-bdfb7c007087",
   "metadata": {},
   "outputs": [
    {
     "data": {
      "text/plain": [
       "array([1.51773381, 2.87203191, 1.61436842, ..., 2.13238298, 2.45074684,\n",
       "       2.70374194])"
      ]
     },
     "execution_count": 16,
     "metadata": {},
     "output_type": "execute_result"
    }
   ],
   "source": [
    "#Aplicación del modelo a X_test\n",
    "predicciones = dtr1.predict(X_test)\n",
    "predicciones"
   ]
  },
  {
   "cell_type": "code",
   "execution_count": 17,
   "id": "0b3525c7-2ea8-420f-ae82-0cb9f3e3297e",
   "metadata": {},
   "outputs": [
    {
     "data": {
      "text/plain": [
       "0.6739592249626237"
      ]
     },
     "execution_count": 17,
     "metadata": {},
     "output_type": "execute_result"
    }
   ],
   "source": [
    "#Score: Coeficiente de determinación r^2\n",
    "dtr1.score(X_test, y_test)"
   ]
  },
  {
   "cell_type": "markdown",
   "id": "569d2a15-fd8a-4335-8221-5108045c01ee",
   "metadata": {},
   "source": [
    "#### Tabla de resultados"
   ]
  },
  {
   "cell_type": "code",
   "execution_count": 18,
   "id": "2dce903c-ddc4-440c-93e5-db7f04c79f60",
   "metadata": {},
   "outputs": [
    {
     "data": {
      "text/html": [
       "<div>\n",
       "<style scoped>\n",
       "    .dataframe tbody tr th:only-of-type {\n",
       "        vertical-align: middle;\n",
       "    }\n",
       "\n",
       "    .dataframe tbody tr th {\n",
       "        vertical-align: top;\n",
       "    }\n",
       "\n",
       "    .dataframe thead th {\n",
       "        text-align: right;\n",
       "    }\n",
       "</style>\n",
       "<table border=\"1\" class=\"dataframe\">\n",
       "  <thead>\n",
       "    <tr style=\"text-align: right;\">\n",
       "      <th></th>\n",
       "      <th>MedInc</th>\n",
       "      <th>HouseAge</th>\n",
       "      <th>AveRooms</th>\n",
       "      <th>AveBedrms</th>\n",
       "      <th>Population</th>\n",
       "      <th>AveOccup</th>\n",
       "      <th>Latitude</th>\n",
       "      <th>Longitude</th>\n",
       "      <th>MedHouseVal</th>\n",
       "      <th>MedHouseVal prediction</th>\n",
       "      <th>Diferencia</th>\n",
       "    </tr>\n",
       "  </thead>\n",
       "  <tbody>\n",
       "    <tr>\n",
       "      <th>14740</th>\n",
       "      <td>4.1518</td>\n",
       "      <td>22.0</td>\n",
       "      <td>5.663073</td>\n",
       "      <td>1.075472</td>\n",
       "      <td>1551.0</td>\n",
       "      <td>4.180593</td>\n",
       "      <td>32.58</td>\n",
       "      <td>-117.05</td>\n",
       "      <td>1.369</td>\n",
       "      <td>1.517734</td>\n",
       "      <td>-0.148734</td>\n",
       "    </tr>\n",
       "    <tr>\n",
       "      <th>10101</th>\n",
       "      <td>5.7796</td>\n",
       "      <td>32.0</td>\n",
       "      <td>6.107226</td>\n",
       "      <td>0.927739</td>\n",
       "      <td>1296.0</td>\n",
       "      <td>3.020979</td>\n",
       "      <td>33.92</td>\n",
       "      <td>-117.97</td>\n",
       "      <td>2.413</td>\n",
       "      <td>2.872032</td>\n",
       "      <td>-0.459032</td>\n",
       "    </tr>\n",
       "    <tr>\n",
       "      <th>20566</th>\n",
       "      <td>4.3487</td>\n",
       "      <td>29.0</td>\n",
       "      <td>5.930712</td>\n",
       "      <td>1.026217</td>\n",
       "      <td>1554.0</td>\n",
       "      <td>2.910112</td>\n",
       "      <td>38.65</td>\n",
       "      <td>-121.84</td>\n",
       "      <td>2.007</td>\n",
       "      <td>1.614368</td>\n",
       "      <td>0.392632</td>\n",
       "    </tr>\n",
       "    <tr>\n",
       "      <th>2670</th>\n",
       "      <td>2.4511</td>\n",
       "      <td>37.0</td>\n",
       "      <td>4.992958</td>\n",
       "      <td>1.316901</td>\n",
       "      <td>390.0</td>\n",
       "      <td>2.746479</td>\n",
       "      <td>33.20</td>\n",
       "      <td>-115.60</td>\n",
       "      <td>0.725</td>\n",
       "      <td>0.768875</td>\n",
       "      <td>-0.043875</td>\n",
       "    </tr>\n",
       "    <tr>\n",
       "      <th>15709</th>\n",
       "      <td>5.0049</td>\n",
       "      <td>25.0</td>\n",
       "      <td>4.319261</td>\n",
       "      <td>1.039578</td>\n",
       "      <td>649.0</td>\n",
       "      <td>1.712401</td>\n",
       "      <td>37.79</td>\n",
       "      <td>-122.43</td>\n",
       "      <td>4.600</td>\n",
       "      <td>4.802507</td>\n",
       "      <td>-0.202507</td>\n",
       "    </tr>\n",
       "    <tr>\n",
       "      <th>...</th>\n",
       "      <td>...</td>\n",
       "      <td>...</td>\n",
       "      <td>...</td>\n",
       "      <td>...</td>\n",
       "      <td>...</td>\n",
       "      <td>...</td>\n",
       "      <td>...</td>\n",
       "      <td>...</td>\n",
       "      <td>...</td>\n",
       "      <td>...</td>\n",
       "      <td>...</td>\n",
       "    </tr>\n",
       "    <tr>\n",
       "      <th>13132</th>\n",
       "      <td>4.0516</td>\n",
       "      <td>8.0</td>\n",
       "      <td>6.201299</td>\n",
       "      <td>1.048996</td>\n",
       "      <td>6002.0</td>\n",
       "      <td>3.543093</td>\n",
       "      <td>38.46</td>\n",
       "      <td>-121.48</td>\n",
       "      <td>1.212</td>\n",
       "      <td>1.311098</td>\n",
       "      <td>-0.099098</td>\n",
       "    </tr>\n",
       "    <tr>\n",
       "      <th>8228</th>\n",
       "      <td>1.2321</td>\n",
       "      <td>35.0</td>\n",
       "      <td>3.062257</td>\n",
       "      <td>1.173152</td>\n",
       "      <td>820.0</td>\n",
       "      <td>1.595331</td>\n",
       "      <td>33.77</td>\n",
       "      <td>-118.19</td>\n",
       "      <td>1.375</td>\n",
       "      <td>1.717192</td>\n",
       "      <td>-0.342192</td>\n",
       "    </tr>\n",
       "    <tr>\n",
       "      <th>3948</th>\n",
       "      <td>3.6296</td>\n",
       "      <td>16.0</td>\n",
       "      <td>3.616842</td>\n",
       "      <td>0.983158</td>\n",
       "      <td>896.0</td>\n",
       "      <td>1.886316</td>\n",
       "      <td>34.20</td>\n",
       "      <td>-118.61</td>\n",
       "      <td>1.609</td>\n",
       "      <td>2.132383</td>\n",
       "      <td>-0.523383</td>\n",
       "    </tr>\n",
       "    <tr>\n",
       "      <th>8522</th>\n",
       "      <td>5.5133</td>\n",
       "      <td>37.0</td>\n",
       "      <td>4.593220</td>\n",
       "      <td>0.889831</td>\n",
       "      <td>355.0</td>\n",
       "      <td>3.008475</td>\n",
       "      <td>33.90</td>\n",
       "      <td>-118.34</td>\n",
       "      <td>2.273</td>\n",
       "      <td>2.450747</td>\n",
       "      <td>-0.177747</td>\n",
       "    </tr>\n",
       "    <tr>\n",
       "      <th>16798</th>\n",
       "      <td>4.7639</td>\n",
       "      <td>36.0</td>\n",
       "      <td>5.261818</td>\n",
       "      <td>1.003636</td>\n",
       "      <td>799.0</td>\n",
       "      <td>2.905455</td>\n",
       "      <td>37.66</td>\n",
       "      <td>-122.44</td>\n",
       "      <td>2.656</td>\n",
       "      <td>2.703742</td>\n",
       "      <td>-0.047742</td>\n",
       "    </tr>\n",
       "  </tbody>\n",
       "</table>\n",
       "<p>5160 rows × 11 columns</p>\n",
       "</div>"
      ],
      "text/plain": [
       "       MedInc  HouseAge  AveRooms  AveBedrms  Population  AveOccup  Latitude  \\\n",
       "14740  4.1518      22.0  5.663073   1.075472      1551.0  4.180593     32.58   \n",
       "10101  5.7796      32.0  6.107226   0.927739      1296.0  3.020979     33.92   \n",
       "20566  4.3487      29.0  5.930712   1.026217      1554.0  2.910112     38.65   \n",
       "2670   2.4511      37.0  4.992958   1.316901       390.0  2.746479     33.20   \n",
       "15709  5.0049      25.0  4.319261   1.039578       649.0  1.712401     37.79   \n",
       "...       ...       ...       ...        ...         ...       ...       ...   \n",
       "13132  4.0516       8.0  6.201299   1.048996      6002.0  3.543093     38.46   \n",
       "8228   1.2321      35.0  3.062257   1.173152       820.0  1.595331     33.77   \n",
       "3948   3.6296      16.0  3.616842   0.983158       896.0  1.886316     34.20   \n",
       "8522   5.5133      37.0  4.593220   0.889831       355.0  3.008475     33.90   \n",
       "16798  4.7639      36.0  5.261818   1.003636       799.0  2.905455     37.66   \n",
       "\n",
       "       Longitude  MedHouseVal  MedHouseVal prediction  Diferencia  \n",
       "14740    -117.05        1.369                1.517734   -0.148734  \n",
       "10101    -117.97        2.413                2.872032   -0.459032  \n",
       "20566    -121.84        2.007                1.614368    0.392632  \n",
       "2670     -115.60        0.725                0.768875   -0.043875  \n",
       "15709    -122.43        4.600                4.802507   -0.202507  \n",
       "...          ...          ...                     ...         ...  \n",
       "13132    -121.48        1.212                1.311098   -0.099098  \n",
       "8228     -118.19        1.375                1.717192   -0.342192  \n",
       "3948     -118.61        1.609                2.132383   -0.523383  \n",
       "8522     -118.34        2.273                2.450747   -0.177747  \n",
       "16798    -122.44        2.656                2.703742   -0.047742  \n",
       "\n",
       "[5160 rows x 11 columns]"
      ]
     },
     "execution_count": 18,
     "metadata": {},
     "output_type": "execute_result"
    }
   ],
   "source": [
    "tabla = pd.DataFrame(X_test).copy()\n",
    "#Agregar y_verdaderas\n",
    "tabla['MedHouseVal'] = y_test\n",
    "#Agregar y de predicción\n",
    "tabla['MedHouseVal prediction'] = predicciones\n",
    "tabla['Diferencia'] = tabla['MedHouseVal']-tabla['MedHouseVal prediction']\n",
    "tabla"
   ]
  },
  {
   "cell_type": "code",
   "execution_count": 19,
   "id": "8fa823e7-2de7-459b-8955-bb57fa4681ba",
   "metadata": {},
   "outputs": [
    {
     "data": {
      "text/plain": [
       "<AxesSubplot:>"
      ]
     },
     "execution_count": 19,
     "metadata": {},
     "output_type": "execute_result"
    },
    {
     "data": {
      "image/png": "[encoded data removed]",
      "text/plain": [
       "<Figure size 432x288 with 1 Axes>"
      ]
     },
     "metadata": {
      "needs_background": "light"
     },
     "output_type": "display_data"
    }
   ],
   "source": [
    "#Distribución de la diferencia\n",
    "tabla.Diferencia.hist()"
   ]
  },
  {
   "cell_type": "markdown",
   "id": "f8b2c7b3-c35b-4535-aa71-05795166fb25",
   "metadata": {},
   "source": [
    "### 4.2 Modelo DTR iterando\n",
    "#### Profundidad\n",
    "Objetivo: Evitar overfitting en el training"
   ]
  },
  {
   "cell_type": "code",
   "execution_count": 31,
   "id": "7bc2088f-ca8a-4570-936f-5917882e861a",
   "metadata": {},
   "outputs": [
    {
     "data": {
      "text/html": [
       "<div>\n",
       "<style scoped>\n",
       "    .dataframe tbody tr th:only-of-type {\n",
       "        vertical-align: middle;\n",
       "    }\n",
       "\n",
       "    .dataframe tbody tr th {\n",
       "        vertical-align: top;\n",
       "    }\n",
       "\n",
       "    .dataframe thead th {\n",
       "        text-align: right;\n",
       "    }\n",
       "</style>\n",
       "<table border=\"1\" class=\"dataframe\">\n",
       "  <thead>\n",
       "    <tr style=\"text-align: right;\">\n",
       "      <th></th>\n",
       "      <th>0</th>\n",
       "      <th>mse</th>\n",
       "    </tr>\n",
       "  </thead>\n",
       "  <tbody>\n",
       "    <tr>\n",
       "      <th>0</th>\n",
       "      <td>1</td>\n",
       "      <td>0.914070</td>\n",
       "    </tr>\n",
       "    <tr>\n",
       "      <th>1</th>\n",
       "      <td>2</td>\n",
       "      <td>0.730066</td>\n",
       "    </tr>\n",
       "    <tr>\n",
       "      <th>2</th>\n",
       "      <td>3</td>\n",
       "      <td>0.611198</td>\n",
       "    </tr>\n",
       "    <tr>\n",
       "      <th>3</th>\n",
       "      <td>4</td>\n",
       "      <td>0.544094</td>\n",
       "    </tr>\n",
       "    <tr>\n",
       "      <th>4</th>\n",
       "      <td>5</td>\n",
       "      <td>0.481805</td>\n",
       "    </tr>\n",
       "    <tr>\n",
       "      <th>5</th>\n",
       "      <td>6</td>\n",
       "      <td>0.431889</td>\n",
       "    </tr>\n",
       "    <tr>\n",
       "      <th>6</th>\n",
       "      <td>7</td>\n",
       "      <td>0.380695</td>\n",
       "    </tr>\n",
       "    <tr>\n",
       "      <th>7</th>\n",
       "      <td>8</td>\n",
       "      <td>0.323426</td>\n",
       "    </tr>\n",
       "    <tr>\n",
       "      <th>8</th>\n",
       "      <td>9</td>\n",
       "      <td>0.270649</td>\n",
       "    </tr>\n",
       "    <tr>\n",
       "      <th>9</th>\n",
       "      <td>10</td>\n",
       "      <td>0.217569</td>\n",
       "    </tr>\n",
       "    <tr>\n",
       "      <th>10</th>\n",
       "      <td>11</td>\n",
       "      <td>0.169530</td>\n",
       "    </tr>\n",
       "    <tr>\n",
       "      <th>11</th>\n",
       "      <td>12</td>\n",
       "      <td>0.131086</td>\n",
       "    </tr>\n",
       "    <tr>\n",
       "      <th>12</th>\n",
       "      <td>13</td>\n",
       "      <td>0.095119</td>\n",
       "    </tr>\n",
       "    <tr>\n",
       "      <th>13</th>\n",
       "      <td>14</td>\n",
       "      <td>0.066892</td>\n",
       "    </tr>\n",
       "    <tr>\n",
       "      <th>14</th>\n",
       "      <td>15</td>\n",
       "      <td>0.045659</td>\n",
       "    </tr>\n",
       "    <tr>\n",
       "      <th>15</th>\n",
       "      <td>16</td>\n",
       "      <td>0.029979</td>\n",
       "    </tr>\n",
       "    <tr>\n",
       "      <th>16</th>\n",
       "      <td>17</td>\n",
       "      <td>0.019023</td>\n",
       "    </tr>\n",
       "    <tr>\n",
       "      <th>17</th>\n",
       "      <td>18</td>\n",
       "      <td>0.011232</td>\n",
       "    </tr>\n",
       "    <tr>\n",
       "      <th>18</th>\n",
       "      <td>19</td>\n",
       "      <td>0.006776</td>\n",
       "    </tr>\n",
       "  </tbody>\n",
       "</table>\n",
       "</div>"
      ],
      "text/plain": [
       "     0       mse\n",
       "0    1  0.914070\n",
       "1    2  0.730066\n",
       "2    3  0.611198\n",
       "3    4  0.544094\n",
       "4    5  0.481805\n",
       "5    6  0.431889\n",
       "6    7  0.380695\n",
       "7    8  0.323426\n",
       "8    9  0.270649\n",
       "9   10  0.217569\n",
       "10  11  0.169530\n",
       "11  12  0.131086\n",
       "12  13  0.095119\n",
       "13  14  0.066892\n",
       "14  15  0.045659\n",
       "15  16  0.029979\n",
       "16  17  0.019023\n",
       "17  18  0.011232\n",
       "18  19  0.006776"
      ]
     },
     "execution_count": 31,
     "metadata": {},
     "output_type": "execute_result"
    }
   ],
   "source": [
    "#Entrenamiento\n",
    "max_depths = range(1, 20)\n",
    "training_error = []\n",
    "\n",
    "#ciclo para probar profundidad\n",
    "for max_depth in max_depths:\n",
    "    model_1 = DecisionTreeRegressor(max_depth=max_depth)\n",
    "    model_1.fit(X_train, y_train)\n",
    "    training_error.append(mse(y_train, model_1.predict(X_train)))\n",
    "\n",
    "training_error\n",
    "\n",
    "#Mostrar en tabla\n",
    "depths_variation = pd.DataFrame(max_depths)\n",
    "#error cuadrático medio\n",
    "depths_variation['mse'] = training_error\n",
    "depths_variation"
   ]
  },
  {
   "cell_type": "code",
   "execution_count": 32,
   "id": "bbc6e124-9cae-45bd-93fc-597ba86280d4",
   "metadata": {},
   "outputs": [
    {
     "data": {
      "text/plain": [
       "([<matplotlib.axis.XTick at 0x238ba2e95b0>,\n",
       "  <matplotlib.axis.XTick at 0x238ba2e93a0>,\n",
       "  <matplotlib.axis.XTick at 0x238ba2f0850>,\n",
       "  <matplotlib.axis.XTick at 0x238ba31b910>,\n",
       "  <matplotlib.axis.XTick at 0x238ba31bbe0>],\n",
       " [Text(0, 0, ''),\n",
       "  Text(0, 0, ''),\n",
       "  Text(0, 0, ''),\n",
       "  Text(0, 0, ''),\n",
       "  Text(0, 0, '')])"
      ]
     },
     "execution_count": 32,
     "metadata": {},
     "output_type": "execute_result"
    },
    {
     "data": {
      "image/png": "[encoded data removed]",
      "text/plain": [
       "<Figure size 432x288 with 1 Axes>"
      ]
     },
     "metadata": {
      "needs_background": "light"
     },
     "output_type": "display_data"
    }
   ],
   "source": [
    "#Gráfica Training\n",
    "plt.figure()\n",
    "plt.xlabel('depths')\n",
    "plt.ylabel('mse')\n",
    "plt.scatter(max_depths, training_error)\n",
    "plt.xticks([0,5,10,15,20])"
   ]
  },
  {
   "cell_type": "code",
   "execution_count": 22,
   "id": "d1597cb5-8572-4be1-b3a5-1db77c571bd8",
   "metadata": {},
   "outputs": [
    {
     "data": {
      "text/html": [
       "<div>\n",
       "<style scoped>\n",
       "    .dataframe tbody tr th:only-of-type {\n",
       "        vertical-align: middle;\n",
       "    }\n",
       "\n",
       "    .dataframe tbody tr th {\n",
       "        vertical-align: top;\n",
       "    }\n",
       "\n",
       "    .dataframe thead th {\n",
       "        text-align: right;\n",
       "    }\n",
       "</style>\n",
       "<table border=\"1\" class=\"dataframe\">\n",
       "  <thead>\n",
       "    <tr style=\"text-align: right;\">\n",
       "      <th></th>\n",
       "      <th>0</th>\n",
       "      <th>mse</th>\n",
       "    </tr>\n",
       "  </thead>\n",
       "  <tbody>\n",
       "    <tr>\n",
       "      <th>0</th>\n",
       "      <td>1</td>\n",
       "      <td>0.934134</td>\n",
       "    </tr>\n",
       "    <tr>\n",
       "      <th>1</th>\n",
       "      <td>2</td>\n",
       "      <td>0.754810</td>\n",
       "    </tr>\n",
       "    <tr>\n",
       "      <th>2</th>\n",
       "      <td>3</td>\n",
       "      <td>0.649530</td>\n",
       "    </tr>\n",
       "    <tr>\n",
       "      <th>3</th>\n",
       "      <td>4</td>\n",
       "      <td>0.590176</td>\n",
       "    </tr>\n",
       "    <tr>\n",
       "      <th>4</th>\n",
       "      <td>5</td>\n",
       "      <td>0.539441</td>\n",
       "    </tr>\n",
       "    <tr>\n",
       "      <th>5</th>\n",
       "      <td>6</td>\n",
       "      <td>0.503431</td>\n",
       "    </tr>\n",
       "    <tr>\n",
       "      <th>6</th>\n",
       "      <td>7</td>\n",
       "      <td>0.461432</td>\n",
       "    </tr>\n",
       "    <tr>\n",
       "      <th>7</th>\n",
       "      <td>8</td>\n",
       "      <td>0.437999</td>\n",
       "    </tr>\n",
       "    <tr>\n",
       "      <th>8</th>\n",
       "      <td>9</td>\n",
       "      <td>0.429110</td>\n",
       "    </tr>\n",
       "    <tr>\n",
       "      <th>9</th>\n",
       "      <td>10</td>\n",
       "      <td>0.433748</td>\n",
       "    </tr>\n",
       "    <tr>\n",
       "      <th>10</th>\n",
       "      <td>11</td>\n",
       "      <td>0.435267</td>\n",
       "    </tr>\n",
       "    <tr>\n",
       "      <th>11</th>\n",
       "      <td>12</td>\n",
       "      <td>0.462277</td>\n",
       "    </tr>\n",
       "    <tr>\n",
       "      <th>12</th>\n",
       "      <td>13</td>\n",
       "      <td>0.477609</td>\n",
       "    </tr>\n",
       "    <tr>\n",
       "      <th>13</th>\n",
       "      <td>14</td>\n",
       "      <td>0.495935</td>\n",
       "    </tr>\n",
       "    <tr>\n",
       "      <th>14</th>\n",
       "      <td>15</td>\n",
       "      <td>0.521128</td>\n",
       "    </tr>\n",
       "    <tr>\n",
       "      <th>15</th>\n",
       "      <td>16</td>\n",
       "      <td>0.538105</td>\n",
       "    </tr>\n",
       "    <tr>\n",
       "      <th>16</th>\n",
       "      <td>17</td>\n",
       "      <td>0.528973</td>\n",
       "    </tr>\n",
       "    <tr>\n",
       "      <th>17</th>\n",
       "      <td>18</td>\n",
       "      <td>0.537964</td>\n",
       "    </tr>\n",
       "    <tr>\n",
       "      <th>18</th>\n",
       "      <td>19</td>\n",
       "      <td>0.536804</td>\n",
       "    </tr>\n",
       "  </tbody>\n",
       "</table>\n",
       "</div>"
      ],
      "text/plain": [
       "     0       mse\n",
       "0    1  0.934134\n",
       "1    2  0.754810\n",
       "2    3  0.649530\n",
       "3    4  0.590176\n",
       "4    5  0.539441\n",
       "5    6  0.503431\n",
       "6    7  0.461432\n",
       "7    8  0.437999\n",
       "8    9  0.429110\n",
       "9   10  0.433748\n",
       "10  11  0.435267\n",
       "11  12  0.462277\n",
       "12  13  0.477609\n",
       "13  14  0.495935\n",
       "14  15  0.521128\n",
       "15  16  0.538105\n",
       "16  17  0.528973\n",
       "17  18  0.537964\n",
       "18  19  0.536804"
      ]
     },
     "execution_count": 22,
     "metadata": {},
     "output_type": "execute_result"
    }
   ],
   "source": [
    "#Testing\n",
    "max_depths = range(1, 20)\n",
    "testing_error = []\n",
    "for max_depth in max_depths:\n",
    "    model_2 = DecisionTreeRegressor(max_depth=max_depth)\n",
    "    model_2.fit(X_train, y_train)\n",
    "    testing_error.append(mse(y_test, model_2.predict(X_test)))\n",
    "testing_error\n",
    "\n",
    "depths_variation = pd.DataFrame(max_depths)\n",
    "#error cuadrático medio\n",
    "depths_variation['mse'] = testing_error\n",
    "depths_variation"
   ]
  },
  {
   "cell_type": "code",
   "execution_count": 23,
   "id": "ee08bc2c-ba6d-4115-af58-924edc048e3b",
   "metadata": {},
   "outputs": [
    {
     "data": {
      "text/html": [
       "<div>\n",
       "<style scoped>\n",
       "    .dataframe tbody tr th:only-of-type {\n",
       "        vertical-align: middle;\n",
       "    }\n",
       "\n",
       "    .dataframe tbody tr th {\n",
       "        vertical-align: top;\n",
       "    }\n",
       "\n",
       "    .dataframe thead th {\n",
       "        text-align: right;\n",
       "    }\n",
       "</style>\n",
       "<table border=\"1\" class=\"dataframe\">\n",
       "  <thead>\n",
       "    <tr style=\"text-align: right;\">\n",
       "      <th></th>\n",
       "      <th>0</th>\n",
       "      <th>mse</th>\n",
       "    </tr>\n",
       "  </thead>\n",
       "  <tbody>\n",
       "    <tr>\n",
       "      <th>8</th>\n",
       "      <td>9</td>\n",
       "      <td>0.42911</td>\n",
       "    </tr>\n",
       "  </tbody>\n",
       "</table>\n",
       "</div>"
      ],
      "text/plain": [
       "   0      mse\n",
       "8  9  0.42911"
      ]
     },
     "execution_count": 23,
     "metadata": {},
     "output_type": "execute_result"
    }
   ],
   "source": [
    "#Identificar el error mínimo\n",
    "minimo_error = depths_variation['mse'].min()\n",
    "depths_variation[depths_variation['mse']==minimo_error]"
   ]
  },
  {
   "cell_type": "code",
   "execution_count": 24,
   "id": "878a8bd3-5ad1-4c02-ac06-5d622391196a",
   "metadata": {},
   "outputs": [
    {
     "data": {
      "text/plain": [
       "([<matplotlib.axis.XTick at 0x238ba25a910>,\n",
       "  <matplotlib.axis.XTick at 0x238ba25a8e0>,\n",
       "  <matplotlib.axis.XTick at 0x238b3c7b0d0>,\n",
       "  <matplotlib.axis.XTick at 0x238ba21c820>,\n",
       "  <matplotlib.axis.XTick at 0x238ba007310>],\n",
       " [Text(0, 0, ''),\n",
       "  Text(0, 0, ''),\n",
       "  Text(0, 0, ''),\n",
       "  Text(0, 0, ''),\n",
       "  Text(0, 0, '')])"
      ]
     },
     "execution_count": 24,
     "metadata": {},
     "output_type": "execute_result"
    },
    {
     "data": {
      "image/png": "[encoded data removed]",
      "text/plain": [
       "<Figure size 432x288 with 1 Axes>"
      ]
     },
     "metadata": {
      "needs_background": "light"
     },
     "output_type": "display_data"
    }
   ],
   "source": [
    "#Gráfica test\n",
    "plt.figure()\n",
    "plt.xlabel('depths')\n",
    "plt.ylabel('mse')\n",
    "plt.scatter(max_depths, testing_error)\n",
    "plt.xticks([0,5,10,15,20])"
   ]
  },
  {
   "cell_type": "code",
   "execution_count": 34,
   "id": "74e5deaa-a8a4-4bce-90dd-27e781b1d12c",
   "metadata": {},
   "outputs": [
    {
     "data": {
      "text/plain": [
       "<matplotlib.legend.Legend at 0x238c5ec1df0>"
      ]
     },
     "execution_count": 34,
     "metadata": {},
     "output_type": "execute_result"
    },
    {
     "data": {
      "image/png": "[encoded data removed]",
      "text/plain": [
       "<Figure size 432x288 with 1 Axes>"
      ]
     },
     "metadata": {
      "needs_background": "light"
     },
     "output_type": "display_data"
    }
   ],
   "source": [
    "#Gráfica Comparativa\n",
    "plt.plot(max_depths, training_error, color='blue', label='Training error')\n",
    "plt.plot(max_depths, testing_error, color='green', label='Testing error')\n",
    "plt.xlabel('Tree depth')\n",
    "plt.axvline(x=9, color='orange', linestyle='--')\n",
    "plt.annotate('optimum = 7', xy=(7.5, 1.17), color='red')\n",
    "plt.ylabel('Mean squared error')\n",
    "plt.title('Hyperparameter Tuning', pad=15, size=15)\n",
    "plt.legend()"
   ]
  },
  {
   "cell_type": "markdown",
   "id": "ca5ca19f-fafa-4e56-a755-d2ac8c757c0f",
   "metadata": {},
   "source": [
    "#### GridSearchCV"
   ]
  },
  {
   "cell_type": "code",
   "execution_count": 26,
   "id": "4618f0df-6e86-4ac5-8135-81a84d102efc",
   "metadata": {},
   "outputs": [
    {
     "name": "stdout",
     "output_type": "stream",
     "text": [
      "{'max_depth': 9, 'min_samples_split': 50}\n",
      "0.40858041905832865\n"
     ]
    }
   ],
   "source": [
    "#Modelo con GridSearch CrossValidation\n",
    "model = DecisionTreeRegressor()\n",
    "\n",
    "gs = GridSearchCV(model,\n",
    "                  param_grid = {'max_depth': range(1, 11),\n",
    "                                'min_samples_split': range(10, 60, 10)},\n",
    "                  cv=5, #cross validation\n",
    "                  n_jobs=1,\n",
    "                  scoring='neg_mean_squared_error')\n",
    "\n",
    "gs.fit(X_train, y_train)\n",
    "\n",
    "print(gs.best_params_)\n",
    "print(-gs.best_score_)"
   ]
  },
  {
   "cell_type": "code",
   "execution_count": 27,
   "id": "47bc4759-b0d4-4fbb-96a8-729931791afd",
   "metadata": {},
   "outputs": [
    {
     "name": "stdout",
     "output_type": "stream",
     "text": [
      "DecisionTreeRegressor(max_depth=10, min_samples_split=50, random_state=1)\n"
     ]
    },
    {
     "data": {
      "text/plain": [
       "0.7983990088380482"
      ]
     },
     "execution_count": 27,
     "metadata": {},
     "output_type": "execute_result"
    }
   ],
   "source": [
    "#Modelo Entrenamiento\n",
    "dtr1 = DecisionTreeRegressor(criterion='squared_error',max_depth=10,min_samples_split= 50,random_state=1)\n",
    "print(dtr1.fit(X_train, y_train))\n",
    "dtr1.score(X_train, y_train)"
   ]
  },
  {
   "cell_type": "code",
   "execution_count": 28,
   "id": "2235786f-c809-4f27-b041-bd0880673b58",
   "metadata": {},
   "outputs": [
    {
     "data": {
      "text/plain": [
       "0.6940983670773886"
      ]
     },
     "execution_count": 28,
     "metadata": {},
     "output_type": "execute_result"
    }
   ],
   "source": [
    "#Score: Coeficiente de determinación r^2\n",
    "dtr1.score(X_test, y_test)"
   ]
  },
  {
   "cell_type": "markdown",
   "id": "c22d4557-223b-4d2e-92ae-58eaa1074d20",
   "metadata": {},
   "source": [
    "### 5. Features importance\n",
    "Cálculo de la importancia de cada variable en el modelo, ya sea por el índice gini"
   ]
  },
  {
   "cell_type": "code",
   "execution_count": 29,
   "id": "dcd5366a-23a0-430e-b8b9-48fb448e0a36",
   "metadata": {},
   "outputs": [
    {
     "data": {
      "text/html": [
       "<div>\n",
       "<style scoped>\n",
       "    .dataframe tbody tr th:only-of-type {\n",
       "        vertical-align: middle;\n",
       "    }\n",
       "\n",
       "    .dataframe tbody tr th {\n",
       "        vertical-align: top;\n",
       "    }\n",
       "\n",
       "    .dataframe thead th {\n",
       "        text-align: right;\n",
       "    }\n",
       "</style>\n",
       "<table border=\"1\" class=\"dataframe\">\n",
       "  <thead>\n",
       "    <tr style=\"text-align: right;\">\n",
       "      <th></th>\n",
       "      <th>feature</th>\n",
       "      <th>importance</th>\n",
       "    </tr>\n",
       "  </thead>\n",
       "  <tbody>\n",
       "    <tr>\n",
       "      <th>0</th>\n",
       "      <td>MedInc</td>\n",
       "      <td>0.635</td>\n",
       "    </tr>\n",
       "    <tr>\n",
       "      <th>5</th>\n",
       "      <td>AveOccup</td>\n",
       "      <td>0.132</td>\n",
       "    </tr>\n",
       "    <tr>\n",
       "      <th>7</th>\n",
       "      <td>Longitude</td>\n",
       "      <td>0.069</td>\n",
       "    </tr>\n",
       "    <tr>\n",
       "      <th>6</th>\n",
       "      <td>Latitude</td>\n",
       "      <td>0.067</td>\n",
       "    </tr>\n",
       "    <tr>\n",
       "      <th>1</th>\n",
       "      <td>HouseAge</td>\n",
       "      <td>0.044</td>\n",
       "    </tr>\n",
       "    <tr>\n",
       "      <th>2</th>\n",
       "      <td>AveRooms</td>\n",
       "      <td>0.032</td>\n",
       "    </tr>\n",
       "    <tr>\n",
       "      <th>4</th>\n",
       "      <td>Population</td>\n",
       "      <td>0.013</td>\n",
       "    </tr>\n",
       "    <tr>\n",
       "      <th>3</th>\n",
       "      <td>AveBedrms</td>\n",
       "      <td>0.008</td>\n",
       "    </tr>\n",
       "  </tbody>\n",
       "</table>\n",
       "</div>"
      ],
      "text/plain": [
       "      feature  importance\n",
       "0      MedInc       0.635\n",
       "5    AveOccup       0.132\n",
       "7   Longitude       0.069\n",
       "6    Latitude       0.067\n",
       "1    HouseAge       0.044\n",
       "2    AveRooms       0.032\n",
       "4  Population       0.013\n",
       "3   AveBedrms       0.008"
      ]
     },
     "execution_count": 29,
     "metadata": {},
     "output_type": "execute_result"
    }
   ],
   "source": [
    "#Evaluando con gini\n",
    "importances = pd.DataFrame({'feature':X_train.columns,'importance':np.round(dtr1.feature_importances_,3)})\n",
    "importances = importances.sort_values('importance',ascending=False)\n",
    "importances"
   ]
  },
  {
   "cell_type": "code",
   "execution_count": 35,
   "id": "1b8afd80-8718-4686-aa2c-ca3befdc3580",
   "metadata": {},
   "outputs": [
    {
     "name": "stdout",
     "output_type": "stream",
     "text": [
      "DecisionTreeRegressor(max_depth=10, min_samples_split=50, random_state=1)\n"
     ]
    },
    {
     "data": {
      "text/plain": [
       "0.656693931884746"
      ]
     },
     "execution_count": 35,
     "metadata": {},
     "output_type": "execute_result"
    }
   ],
   "source": [
    "#Modelo Entrenamiento\n",
    "dtr1 = DecisionTreeRegressor(criterion='squared_error',max_depth=10,min_samples_split= 50,random_state=1)\n",
    "print(dtr1.fit(X_train[['MedInc','AveOccup']], y_train))\n",
    "dtr1.score(X_train[['MedInc','AveOccup']], y_train)"
   ]
  }
 ],
 "metadata": {
  "kernelspec": {
   "display_name": "Python 3",
   "language": "python",
   "name": "python3"
  },
  "language_info": {
   "codemirror_mode": {
    "name": "ipython",
    "version": 3
   },
   "file_extension": ".py",
   "mimetype": "text/x-python",
   "name": "python",
   "nbconvert_exporter": "python",
   "pygments_lexer": "ipython3",
   "version": "3.8.8"
  }
 },
 "nbformat": 4,
 "nbformat_minor": 5
}
