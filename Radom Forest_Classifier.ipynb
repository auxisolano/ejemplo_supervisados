{
 "cells": [
  {
   "cell_type": "markdown",
   "id": "4185a74f-ad1e-4c9e-ae1e-b34a6e8ec484",
   "metadata": {},
   "source": [
    "# Radom Forest para Clasificación\n",
    "- Fuente ejemplo: https://www.datacamp.com/community/tutorials/random-forests-classifier-python\n",
    "- Base de datos: https://en.wikipedia.org/wiki/Iris_flower_data_set\n",
    "- Documentación: https://scikit-learn.org/stable/modules/generated/sklearn.ensemble.RandomForestClassifier.html\n",
    "- Objetivo: Clasificación de la especia de planta"
   ]
  },
  {
   "cell_type": "markdown",
   "id": "cbc40749-e98b-4449-85c3-ce63cb4fedc2",
   "metadata": {},
   "source": [
    "## 1. Cargar librerías y datos\n",
    "### Librerías"
   ]
  },
  {
   "cell_type": "code",
   "execution_count": 110,
   "id": "f44129cf-6192-4680-b184-09d5273a3cc0",
   "metadata": {},
   "outputs": [],
   "source": [
    "#Manejo de datos\n",
    "import pandas as pd\n",
    "import numpy as np\n",
    "#Gráficas\n",
    "import seaborn as sns\n",
    "import matplotlib.pyplot as plt\n",
    "\n",
    "#Datos\n",
    "from sklearn.datasets import load_iris\n",
    "\n",
    "#Modelo\n",
    "from sklearn.model_selection import train_test_split\n",
    "from sklearn.ensemble import RandomForestClassifier\n",
    "from sklearn.datasets import make_classification\n",
    "from sklearn.model_selection import cross_val_score\n",
    "from sklearn.model_selection import GridSearchCV\n",
    "\n",
    "#Métricas\n",
    "from sklearn.metrics import classification_report\n",
    "from sklearn.metrics import confusion_matrix"
   ]
  },
  {
   "cell_type": "markdown",
   "id": "36722a4c-5f91-4ccb-b97f-2151db0a2572",
   "metadata": {},
   "source": [
    "### Datos\n",
    "The Iris dataset is one of datasets scikit-learn comes with that do not require the downloading of any file from some external website. The code below loads the iris dataset."
   ]
  },
  {
   "cell_type": "code",
   "execution_count": 111,
   "id": "cd0a013e-06c5-4e01-b027-c7fc60b969e2",
   "metadata": {},
   "outputs": [
    {
     "data": {
      "text/html": [
       "<div>\n",
       "<style scoped>\n",
       "    .dataframe tbody tr th:only-of-type {\n",
       "        vertical-align: middle;\n",
       "    }\n",
       "\n",
       "    .dataframe tbody tr th {\n",
       "        vertical-align: top;\n",
       "    }\n",
       "\n",
       "    .dataframe thead th {\n",
       "        text-align: right;\n",
       "    }\n",
       "</style>\n",
       "<table border=\"1\" class=\"dataframe\">\n",
       "  <thead>\n",
       "    <tr style=\"text-align: right;\">\n",
       "      <th></th>\n",
       "      <th>sepal length (cm)</th>\n",
       "      <th>sepal width (cm)</th>\n",
       "      <th>petal length (cm)</th>\n",
       "      <th>petal width (cm)</th>\n",
       "      <th>species</th>\n",
       "    </tr>\n",
       "  </thead>\n",
       "  <tbody>\n",
       "    <tr>\n",
       "      <th>0</th>\n",
       "      <td>5.1</td>\n",
       "      <td>3.5</td>\n",
       "      <td>1.4</td>\n",
       "      <td>0.2</td>\n",
       "      <td>0</td>\n",
       "    </tr>\n",
       "    <tr>\n",
       "      <th>1</th>\n",
       "      <td>4.9</td>\n",
       "      <td>3.0</td>\n",
       "      <td>1.4</td>\n",
       "      <td>0.2</td>\n",
       "      <td>0</td>\n",
       "    </tr>\n",
       "    <tr>\n",
       "      <th>2</th>\n",
       "      <td>4.7</td>\n",
       "      <td>3.2</td>\n",
       "      <td>1.3</td>\n",
       "      <td>0.2</td>\n",
       "      <td>0</td>\n",
       "    </tr>\n",
       "    <tr>\n",
       "      <th>3</th>\n",
       "      <td>4.6</td>\n",
       "      <td>3.1</td>\n",
       "      <td>1.5</td>\n",
       "      <td>0.2</td>\n",
       "      <td>0</td>\n",
       "    </tr>\n",
       "    <tr>\n",
       "      <th>4</th>\n",
       "      <td>5.0</td>\n",
       "      <td>3.6</td>\n",
       "      <td>1.4</td>\n",
       "      <td>0.2</td>\n",
       "      <td>0</td>\n",
       "    </tr>\n",
       "    <tr>\n",
       "      <th>...</th>\n",
       "      <td>...</td>\n",
       "      <td>...</td>\n",
       "      <td>...</td>\n",
       "      <td>...</td>\n",
       "      <td>...</td>\n",
       "    </tr>\n",
       "    <tr>\n",
       "      <th>145</th>\n",
       "      <td>6.7</td>\n",
       "      <td>3.0</td>\n",
       "      <td>5.2</td>\n",
       "      <td>2.3</td>\n",
       "      <td>2</td>\n",
       "    </tr>\n",
       "    <tr>\n",
       "      <th>146</th>\n",
       "      <td>6.3</td>\n",
       "      <td>2.5</td>\n",
       "      <td>5.0</td>\n",
       "      <td>1.9</td>\n",
       "      <td>2</td>\n",
       "    </tr>\n",
       "    <tr>\n",
       "      <th>147</th>\n",
       "      <td>6.5</td>\n",
       "      <td>3.0</td>\n",
       "      <td>5.2</td>\n",
       "      <td>2.0</td>\n",
       "      <td>2</td>\n",
       "    </tr>\n",
       "    <tr>\n",
       "      <th>148</th>\n",
       "      <td>6.2</td>\n",
       "      <td>3.4</td>\n",
       "      <td>5.4</td>\n",
       "      <td>2.3</td>\n",
       "      <td>2</td>\n",
       "    </tr>\n",
       "    <tr>\n",
       "      <th>149</th>\n",
       "      <td>5.9</td>\n",
       "      <td>3.0</td>\n",
       "      <td>5.1</td>\n",
       "      <td>1.8</td>\n",
       "      <td>2</td>\n",
       "    </tr>\n",
       "  </tbody>\n",
       "</table>\n",
       "<p>150 rows × 5 columns</p>\n",
       "</div>"
      ],
      "text/plain": [
       "     sepal length (cm)  sepal width (cm)  petal length (cm)  petal width (cm)  \\\n",
       "0                  5.1               3.5                1.4               0.2   \n",
       "1                  4.9               3.0                1.4               0.2   \n",
       "2                  4.7               3.2                1.3               0.2   \n",
       "3                  4.6               3.1                1.5               0.2   \n",
       "4                  5.0               3.6                1.4               0.2   \n",
       "..                 ...               ...                ...               ...   \n",
       "145                6.7               3.0                5.2               2.3   \n",
       "146                6.3               2.5                5.0               1.9   \n",
       "147                6.5               3.0                5.2               2.0   \n",
       "148                6.2               3.4                5.4               2.3   \n",
       "149                5.9               3.0                5.1               1.8   \n",
       "\n",
       "     species  \n",
       "0          0  \n",
       "1          0  \n",
       "2          0  \n",
       "3          0  \n",
       "4          0  \n",
       "..       ...  \n",
       "145        2  \n",
       "146        2  \n",
       "147        2  \n",
       "148        2  \n",
       "149        2  \n",
       "\n",
       "[150 rows x 5 columns]"
      ]
     },
     "execution_count": 111,
     "metadata": {},
     "output_type": "execute_result"
    }
   ],
   "source": [
    "#Carga de datos\n",
    "data = load_iris()\n",
    "iris = pd.DataFrame(data.data, columns=data.feature_names)\n",
    "iris['species'] = data.target\n",
    "iris"
   ]
  },
  {
   "cell_type": "markdown",
   "id": "be047455-685e-4ff9-b66b-759824a17b2e",
   "metadata": {},
   "source": [
    "## 2. Comprensión inicial de los datos\n",
    "### Datos generales"
   ]
  },
  {
   "cell_type": "code",
   "execution_count": 112,
   "id": "43b6589e-76ee-4929-b62f-8bf52a46f4ce",
   "metadata": {},
   "outputs": [
    {
     "data": {
      "text/html": [
       "<div>\n",
       "<style scoped>\n",
       "    .dataframe tbody tr th:only-of-type {\n",
       "        vertical-align: middle;\n",
       "    }\n",
       "\n",
       "    .dataframe tbody tr th {\n",
       "        vertical-align: top;\n",
       "    }\n",
       "\n",
       "    .dataframe thead th {\n",
       "        text-align: right;\n",
       "    }\n",
       "</style>\n",
       "<table border=\"1\" class=\"dataframe\">\n",
       "  <thead>\n",
       "    <tr style=\"text-align: right;\">\n",
       "      <th></th>\n",
       "      <th>sepal length (cm)</th>\n",
       "      <th>sepal width (cm)</th>\n",
       "      <th>petal length (cm)</th>\n",
       "      <th>petal width (cm)</th>\n",
       "      <th>species</th>\n",
       "    </tr>\n",
       "  </thead>\n",
       "  <tbody>\n",
       "    <tr>\n",
       "      <th>count</th>\n",
       "      <td>150.000000</td>\n",
       "      <td>150.000000</td>\n",
       "      <td>150.000000</td>\n",
       "      <td>150.000000</td>\n",
       "      <td>150.000000</td>\n",
       "    </tr>\n",
       "    <tr>\n",
       "      <th>mean</th>\n",
       "      <td>5.843333</td>\n",
       "      <td>3.057333</td>\n",
       "      <td>3.758000</td>\n",
       "      <td>1.199333</td>\n",
       "      <td>1.000000</td>\n",
       "    </tr>\n",
       "    <tr>\n",
       "      <th>std</th>\n",
       "      <td>0.828066</td>\n",
       "      <td>0.435866</td>\n",
       "      <td>1.765298</td>\n",
       "      <td>0.762238</td>\n",
       "      <td>0.819232</td>\n",
       "    </tr>\n",
       "    <tr>\n",
       "      <th>min</th>\n",
       "      <td>4.300000</td>\n",
       "      <td>2.000000</td>\n",
       "      <td>1.000000</td>\n",
       "      <td>0.100000</td>\n",
       "      <td>0.000000</td>\n",
       "    </tr>\n",
       "    <tr>\n",
       "      <th>25%</th>\n",
       "      <td>5.100000</td>\n",
       "      <td>2.800000</td>\n",
       "      <td>1.600000</td>\n",
       "      <td>0.300000</td>\n",
       "      <td>0.000000</td>\n",
       "    </tr>\n",
       "    <tr>\n",
       "      <th>50%</th>\n",
       "      <td>5.800000</td>\n",
       "      <td>3.000000</td>\n",
       "      <td>4.350000</td>\n",
       "      <td>1.300000</td>\n",
       "      <td>1.000000</td>\n",
       "    </tr>\n",
       "    <tr>\n",
       "      <th>75%</th>\n",
       "      <td>6.400000</td>\n",
       "      <td>3.300000</td>\n",
       "      <td>5.100000</td>\n",
       "      <td>1.800000</td>\n",
       "      <td>2.000000</td>\n",
       "    </tr>\n",
       "    <tr>\n",
       "      <th>max</th>\n",
       "      <td>7.900000</td>\n",
       "      <td>4.400000</td>\n",
       "      <td>6.900000</td>\n",
       "      <td>2.500000</td>\n",
       "      <td>2.000000</td>\n",
       "    </tr>\n",
       "  </tbody>\n",
       "</table>\n",
       "</div>"
      ],
      "text/plain": [
       "       sepal length (cm)  sepal width (cm)  petal length (cm)  \\\n",
       "count         150.000000        150.000000         150.000000   \n",
       "mean            5.843333          3.057333           3.758000   \n",
       "std             0.828066          0.435866           1.765298   \n",
       "min             4.300000          2.000000           1.000000   \n",
       "25%             5.100000          2.800000           1.600000   \n",
       "50%             5.800000          3.000000           4.350000   \n",
       "75%             6.400000          3.300000           5.100000   \n",
       "max             7.900000          4.400000           6.900000   \n",
       "\n",
       "       petal width (cm)     species  \n",
       "count        150.000000  150.000000  \n",
       "mean           1.199333    1.000000  \n",
       "std            0.762238    0.819232  \n",
       "min            0.100000    0.000000  \n",
       "25%            0.300000    0.000000  \n",
       "50%            1.300000    1.000000  \n",
       "75%            1.800000    2.000000  \n",
       "max            2.500000    2.000000  "
      ]
     },
     "execution_count": 112,
     "metadata": {},
     "output_type": "execute_result"
    }
   ],
   "source": [
    "#Descripción general de los datos\n",
    "iris.describe()"
   ]
  },
  {
   "cell_type": "markdown",
   "id": "caa7b85a-515d-4337-82fa-d7c52631141c",
   "metadata": {},
   "source": [
    "### Relación gráfica"
   ]
  },
  {
   "cell_type": "code",
   "execution_count": 113,
   "id": "8f5ac453-b6a0-4ce1-b62e-68e8c5bd75c4",
   "metadata": {},
   "outputs": [
    {
     "data": {
      "text/plain": [
       "<seaborn.axisgrid.PairGrid at 0x1ead004ce20>"
      ]
     },
     "execution_count": 113,
     "metadata": {},
     "output_type": "execute_result"
    },
    {
     "data": {
      "image/png": "[encoded data removed]",
      "text/plain": [
       "<Figure size 900x900 with 20 Axes>"
      ]
     },
     "metadata": {
      "needs_background": "light"
     },
     "output_type": "display_data"
    }
   ],
   "source": [
    "#Gráfica para verificar la relación no lineal\n",
    "sns.pairplot(iris, corner=True)"
   ]
  },
  {
   "cell_type": "code",
   "execution_count": 114,
   "id": "9d3638ed-4bdc-45c5-8d56-70775498826d",
   "metadata": {},
   "outputs": [
    {
     "data": {
      "text/plain": [
       "<AxesSubplot:>"
      ]
     },
     "execution_count": 114,
     "metadata": {},
     "output_type": "execute_result"
    },
    {
     "data": {
      "image/png": "[encoded data removed]",
      "text/plain": [
       "<Figure size 432x288 with 1 Axes>"
      ]
     },
     "metadata": {
      "needs_background": "light"
     },
     "output_type": "display_data"
    }
   ],
   "source": [
    "iris.boxplot()"
   ]
  },
  {
   "cell_type": "markdown",
   "id": "aa08d4db-1ff9-4441-bc1a-38265a534c78",
   "metadata": {},
   "source": [
    "## 3. Peparación de DataFrame"
   ]
  },
  {
   "cell_type": "markdown",
   "id": "c7263078-2c8b-4644-90e5-d8fb5a0e4f4b",
   "metadata": {},
   "source": [
    "### DataFrame definitivo"
   ]
  },
  {
   "cell_type": "code",
   "execution_count": 115,
   "id": "6fe360de-636e-4212-bb02-c0952731c2c1",
   "metadata": {},
   "outputs": [
    {
     "name": "stdout",
     "output_type": "stream",
     "text": [
      "     sepal length (cm)  sepal width (cm)  petal length (cm)  petal width (cm)\n",
      "0                  5.1               3.5                1.4               0.2\n",
      "1                  4.9               3.0                1.4               0.2\n",
      "2                  4.7               3.2                1.3               0.2\n",
      "3                  4.6               3.1                1.5               0.2\n",
      "4                  5.0               3.6                1.4               0.2\n",
      "..                 ...               ...                ...               ...\n",
      "145                6.7               3.0                5.2               2.3\n",
      "146                6.3               2.5                5.0               1.9\n",
      "147                6.5               3.0                5.2               2.0\n",
      "148                6.2               3.4                5.4               2.3\n",
      "149                5.9               3.0                5.1               1.8\n",
      "\n",
      "[150 rows x 4 columns]\n",
      "0      0\n",
      "1      0\n",
      "2      0\n",
      "3      0\n",
      "4      0\n",
      "      ..\n",
      "145    2\n",
      "146    2\n",
      "147    2\n",
      "148    2\n",
      "149    2\n",
      "Name: species, Length: 150, dtype: int32\n"
     ]
    }
   ],
   "source": [
    "X = iris[['sepal length (cm)','sepal width (cm)','petal length (cm)','petal width (cm)']]  # Features\n",
    "y = iris['species']  # Labels\n",
    "print(X)\n",
    "print(y)"
   ]
  },
  {
   "cell_type": "markdown",
   "id": "cf58f62c-dc0e-4faf-9538-654e50c61af2",
   "metadata": {},
   "source": [
    "### Train-Test split"
   ]
  },
  {
   "cell_type": "code",
   "execution_count": 116,
   "id": "d022b4de-88eb-4587-ab1f-40b0a5ea8fa2",
   "metadata": {},
   "outputs": [
    {
     "name": "stdout",
     "output_type": "stream",
     "text": [
      "Train shape\n",
      "X_train:(105, 4)\n",
      "y_train:(105,)\n",
      "Test shape\n",
      "X_test:(45, 4)\n",
      "y_test:(45,)\n"
     ]
    }
   ],
   "source": [
    "# División del data set en train y test\n",
    "X_train, X_test, y_train, y_test = train_test_split(X, y, test_size=0.3) # 70% training and 30% test\n",
    "print(\"Train shape\")\n",
    "print(\"X_train:\" + str(X_train.shape))\n",
    "print(\"y_train:\" + str(y_train.shape))\n",
    "print(\"Test shape\")\n",
    "print(\"X_test:\" + str(X_test.shape))\n",
    "print(\"y_test:\" + str(y_test.shape))"
   ]
  },
  {
   "cell_type": "markdown",
   "id": "105812e4-a7b1-4a0f-b355-24f6ef2fa3fd",
   "metadata": {},
   "source": [
    "## 4. Modelo"
   ]
  },
  {
   "cell_type": "markdown",
   "id": "63cc4078-9d29-4ec2-aa82-78f2b3b0248d",
   "metadata": {},
   "source": [
    "### 4.1 Modelo default\n",
    "#### Entrenamiento"
   ]
  },
  {
   "cell_type": "code",
   "execution_count": 117,
   "id": "683e2864-a8d0-4758-8287-725f9f1b3ed5",
   "metadata": {},
   "outputs": [
    {
     "data": {
      "text/plain": [
       "RandomForestClassifier()"
      ]
     },
     "execution_count": 117,
     "metadata": {},
     "output_type": "execute_result"
    }
   ],
   "source": [
    "#Entrenamiento\n",
    "clf = RandomForestClassifier(n_estimators=100)\n",
    "clf.fit(X_train,y_train)"
   ]
  },
  {
   "cell_type": "code",
   "execution_count": 118,
   "id": "1f6fdec8-b068-43d4-aade-12bdf45c8956",
   "metadata": {},
   "outputs": [
    {
     "data": {
      "text/plain": [
       "1.0"
      ]
     },
     "execution_count": 118,
     "metadata": {},
     "output_type": "execute_result"
    }
   ],
   "source": [
    "#Score: Métrica accuracy promedio de entrenamiento\n",
    "clf.score(X_train, y_train)"
   ]
  },
  {
   "cell_type": "markdown",
   "id": "387a0ca1-1e1f-4f19-bdb6-72445abf493a",
   "metadata": {},
   "source": [
    "#### Predicción"
   ]
  },
  {
   "cell_type": "code",
   "execution_count": 119,
   "id": "7db973bc-8afb-4014-9b1a-bdfb7c007087",
   "metadata": {},
   "outputs": [
    {
     "data": {
      "text/plain": [
       "array([0, 0, 1, 0, 0, 2, 2, 0, 1, 2, 1, 1, 0, 2, 2, 2, 2, 2, 1, 0, 0, 1,\n",
       "       1, 2, 2, 1, 1, 1, 0, 0, 1, 0, 2, 0, 1, 1, 0, 1, 0, 2, 2, 1, 1, 1,\n",
       "       0])"
      ]
     },
     "execution_count": 119,
     "metadata": {},
     "output_type": "execute_result"
    }
   ],
   "source": [
    "# Use the forest's predict method on the test data\n",
    "predictions = clf.predict(X_test)\n",
    "predictions"
   ]
  },
  {
   "cell_type": "code",
   "execution_count": 120,
   "id": "06c475f2-057b-4df2-bfce-495d36880fe0",
   "metadata": {},
   "outputs": [
    {
     "data": {
      "text/plain": [
       "0.9111111111111111"
      ]
     },
     "execution_count": 120,
     "metadata": {},
     "output_type": "execute_result"
    }
   ],
   "source": [
    "#Score: Métrica accuracy promedio de prueba\n",
    "clf.score(X_test, y_test)"
   ]
  },
  {
   "cell_type": "code",
   "execution_count": 121,
   "id": "87806df8-6432-492d-aaed-556f1a81436e",
   "metadata": {},
   "outputs": [
    {
     "name": "stdout",
     "output_type": "stream",
     "text": [
      "especies:[0,1,2]\n",
      "probabilidad:\n"
     ]
    },
    {
     "data": {
      "text/plain": [
       "array([[1.  , 0.  , 0.  ],\n",
       "       [1.  , 0.  , 0.  ],\n",
       "       [0.03, 0.97, 0.  ],\n",
       "       [0.99, 0.01, 0.  ],\n",
       "       [1.  , 0.  , 0.  ],\n",
       "       [0.  , 0.  , 1.  ],\n",
       "       [0.  , 0.39, 0.61],\n",
       "       [1.  , 0.  , 0.  ],\n",
       "       [0.  , 1.  , 0.  ],\n",
       "       [0.  , 0.  , 1.  ],\n",
       "       [0.  , 1.  , 0.  ],\n",
       "       [0.  , 1.  , 0.  ],\n",
       "       [1.  , 0.  , 0.  ],\n",
       "       [0.  , 0.  , 1.  ],\n",
       "       [0.  , 0.  , 1.  ],\n",
       "       [0.  , 0.38, 0.62],\n",
       "       [0.  , 0.4 , 0.6 ],\n",
       "       [0.  , 0.13, 0.87],\n",
       "       [0.  , 1.  , 0.  ],\n",
       "       [1.  , 0.  , 0.  ],\n",
       "       [0.96, 0.04, 0.  ],\n",
       "       [0.  , 1.  , 0.  ],\n",
       "       [0.  , 1.  , 0.  ],\n",
       "       [0.  , 0.  , 1.  ],\n",
       "       [0.  , 0.  , 1.  ],\n",
       "       [0.  , 0.55, 0.45],\n",
       "       [0.  , 1.  , 0.  ],\n",
       "       [0.  , 1.  , 0.  ],\n",
       "       [0.96, 0.04, 0.  ],\n",
       "       [0.97, 0.03, 0.  ],\n",
       "       [0.  , 0.95, 0.05],\n",
       "       [1.  , 0.  , 0.  ],\n",
       "       [0.  , 0.  , 1.  ],\n",
       "       [1.  , 0.  , 0.  ],\n",
       "       [0.  , 0.88, 0.12],\n",
       "       [0.  , 1.  , 0.  ],\n",
       "       [1.  , 0.  , 0.  ],\n",
       "       [0.  , 0.51, 0.49],\n",
       "       [1.  , 0.  , 0.  ],\n",
       "       [0.  , 0.  , 1.  ],\n",
       "       [0.  , 0.  , 1.  ],\n",
       "       [0.  , 1.  , 0.  ],\n",
       "       [0.  , 1.  , 0.  ],\n",
       "       [0.  , 0.55, 0.45],\n",
       "       [1.  , 0.  , 0.  ]])"
      ]
     },
     "execution_count": 121,
     "metadata": {},
     "output_type": "execute_result"
    }
   ],
   "source": [
    "#Probabilidad de clasificación\n",
    "print(\"especies:[0,1,2]\")\n",
    "print(\"probabilidad:\")\n",
    "clf.predict_proba(X_test)"
   ]
  },
  {
   "cell_type": "markdown",
   "id": "569d2a15-fd8a-4335-8221-5108045c01ee",
   "metadata": {},
   "source": [
    "#### Tabla de resultados"
   ]
  },
  {
   "cell_type": "code",
   "execution_count": 122,
   "id": "2dce903c-ddc4-440c-93e5-db7f04c79f60",
   "metadata": {},
   "outputs": [
    {
     "data": {
      "text/html": [
       "<div>\n",
       "<style scoped>\n",
       "    .dataframe tbody tr th:only-of-type {\n",
       "        vertical-align: middle;\n",
       "    }\n",
       "\n",
       "    .dataframe tbody tr th {\n",
       "        vertical-align: top;\n",
       "    }\n",
       "\n",
       "    .dataframe thead th {\n",
       "        text-align: right;\n",
       "    }\n",
       "</style>\n",
       "<table border=\"1\" class=\"dataframe\">\n",
       "  <thead>\n",
       "    <tr style=\"text-align: right;\">\n",
       "      <th></th>\n",
       "      <th>sepal length (cm)</th>\n",
       "      <th>sepal width (cm)</th>\n",
       "      <th>petal length (cm)</th>\n",
       "      <th>petal width (cm)</th>\n",
       "      <th>species</th>\n",
       "      <th>species prediction</th>\n",
       "      <th>T/F</th>\n",
       "    </tr>\n",
       "  </thead>\n",
       "  <tbody>\n",
       "    <tr>\n",
       "      <th>46</th>\n",
       "      <td>5.1</td>\n",
       "      <td>3.8</td>\n",
       "      <td>1.6</td>\n",
       "      <td>0.2</td>\n",
       "      <td>0</td>\n",
       "      <td>0</td>\n",
       "      <td>True</td>\n",
       "    </tr>\n",
       "    <tr>\n",
       "      <th>22</th>\n",
       "      <td>4.6</td>\n",
       "      <td>3.6</td>\n",
       "      <td>1.0</td>\n",
       "      <td>0.2</td>\n",
       "      <td>0</td>\n",
       "      <td>0</td>\n",
       "      <td>True</td>\n",
       "    </tr>\n",
       "    <tr>\n",
       "      <th>85</th>\n",
       "      <td>6.0</td>\n",
       "      <td>3.4</td>\n",
       "      <td>4.5</td>\n",
       "      <td>1.6</td>\n",
       "      <td>1</td>\n",
       "      <td>1</td>\n",
       "      <td>True</td>\n",
       "    </tr>\n",
       "    <tr>\n",
       "      <th>41</th>\n",
       "      <td>4.5</td>\n",
       "      <td>2.3</td>\n",
       "      <td>1.3</td>\n",
       "      <td>0.3</td>\n",
       "      <td>0</td>\n",
       "      <td>0</td>\n",
       "      <td>True</td>\n",
       "    </tr>\n",
       "    <tr>\n",
       "      <th>2</th>\n",
       "      <td>4.7</td>\n",
       "      <td>3.2</td>\n",
       "      <td>1.3</td>\n",
       "      <td>0.2</td>\n",
       "      <td>0</td>\n",
       "      <td>0</td>\n",
       "      <td>True</td>\n",
       "    </tr>\n",
       "  </tbody>\n",
       "</table>\n",
       "</div>"
      ],
      "text/plain": [
       "    sepal length (cm)  sepal width (cm)  petal length (cm)  petal width (cm)  \\\n",
       "46                5.1               3.8                1.6               0.2   \n",
       "22                4.6               3.6                1.0               0.2   \n",
       "85                6.0               3.4                4.5               1.6   \n",
       "41                4.5               2.3                1.3               0.3   \n",
       "2                 4.7               3.2                1.3               0.2   \n",
       "\n",
       "    species  species prediction   T/F  \n",
       "46        0                   0  True  \n",
       "22        0                   0  True  \n",
       "85        1                   1  True  \n",
       "41        0                   0  True  \n",
       "2         0                   0  True  "
      ]
     },
     "execution_count": 122,
     "metadata": {},
     "output_type": "execute_result"
    }
   ],
   "source": [
    "tabla = pd.DataFrame(X_test).copy()\n",
    "#Agregar y_verdaderas\n",
    "tabla['species'] = y_test\n",
    "#Agregar y de predicción\n",
    "tabla['species prediction'] = predictions\n",
    "tabla['T/F'] = tabla['species']==tabla['species prediction']\n",
    "tabla.head()"
   ]
  },
  {
   "cell_type": "code",
   "execution_count": 123,
   "id": "b92a23fe-3af6-4c06-b4e4-06939870caba",
   "metadata": {},
   "outputs": [
    {
     "name": "stdout",
     "output_type": "stream",
     "text": [
      "True     41\n",
      "False     4\n",
      "Name: T/F, dtype: int64\n",
      "True     91.111111\n",
      "False     8.888889\n",
      "Name: T/F, dtype: float64\n"
     ]
    }
   ],
   "source": [
    "#Cantidad verdader/falso\n",
    "print(tabla['T/F'].value_counts())\n",
    "\n",
    "#Proporción verdader/falso\n",
    "print(((tabla['T/F'].value_counts())/len(tabla))*100)"
   ]
  },
  {
   "cell_type": "markdown",
   "id": "6958c813-b47c-4130-9525-e3e84c3f6613",
   "metadata": {},
   "source": [
    "### 4.2 Modelo iterado\n",
    "#### GridSearch CV"
   ]
  },
  {
   "cell_type": "code",
   "execution_count": 124,
   "id": "87c87911-8f61-47a4-a709-ac691d41d69b",
   "metadata": {},
   "outputs": [
    {
     "name": "stdout",
     "output_type": "stream",
     "text": [
      "{'max_depth': 7, 'min_samples_split': 20, 'n_estimators': 10}\n",
      "0.9714285714285713\n"
     ]
    }
   ],
   "source": [
    "#Modelo con GridSearch CrossValidation\n",
    "model = RandomForestClassifier(criterion='entropy')\n",
    "\n",
    "#Hiperparámetros\n",
    "n_estimators_range = range(10,101,10) #Cantidad de árboles\n",
    "max_depth_range = range(1,11) #Profundidad\n",
    "min_samples_split_range = range(2,21,2) #Muestras requeridas para dividir un nodo \n",
    "\n",
    "#Optimización entre parámetros\n",
    "gs = GridSearchCV(model,\n",
    "                  param_grid = {'n_estimators':n_estimators_range,\n",
    "                                'max_depth': max_depth_range,\n",
    "                                'min_samples_split': min_samples_split_range},\n",
    "                  cv=5, #cross validation\n",
    "                  n_jobs=1,\n",
    "                  scoring='accuracy')\n",
    "\n",
    "gs.fit(X_train, y_train)\n",
    "\n",
    "print(gs.best_params_)\n",
    "print(gs.best_score_)"
   ]
  },
  {
   "cell_type": "markdown",
   "id": "b8166c24-91bb-4653-a6fe-043bc9858841",
   "metadata": {},
   "source": [
    "#### Modelo con entropía"
   ]
  },
  {
   "cell_type": "code",
   "execution_count": 138,
   "id": "6e0fa96b-4062-44fe-b9d6-09e9f0a59fae",
   "metadata": {},
   "outputs": [
    {
     "data": {
      "text/plain": [
       "RandomForestClassifier(criterion='entropy', max_depth=7, min_samples_split=20,\n",
       "                       n_estimators=10)"
      ]
     },
     "execution_count": 138,
     "metadata": {},
     "output_type": "execute_result"
    }
   ],
   "source": [
    "#Aplicar el modelo con los parámetros obtenidos\n",
    "clf1 = RandomForestClassifier(max_depth = 7, min_samples_split= 20, n_estimators= 10,criterion='entropy')\n",
    "clf1.fit(X_train,y_train)"
   ]
  },
  {
   "cell_type": "code",
   "execution_count": 139,
   "id": "55fa3831-4813-481e-975e-33cb83d51fd4",
   "metadata": {},
   "outputs": [
    {
     "data": {
      "text/plain": [
       "0.9619047619047619"
      ]
     },
     "execution_count": 139,
     "metadata": {},
     "output_type": "execute_result"
    }
   ],
   "source": [
    "#Score: Métrica accuracy promedio de entrenamiento\n",
    "clf1.score(X_train, y_train)"
   ]
  },
  {
   "cell_type": "code",
   "execution_count": 140,
   "id": "f4f12b68-b875-4ec6-9bcf-0448d4f6767f",
   "metadata": {},
   "outputs": [
    {
     "data": {
      "text/plain": [
       "0.9333333333333333"
      ]
     },
     "execution_count": 140,
     "metadata": {},
     "output_type": "execute_result"
    }
   ],
   "source": [
    "#Score: Métrica accuracy promedio de validación\n",
    "clf1.score(X_test, y_test)"
   ]
  },
  {
   "cell_type": "markdown",
   "id": "4cd2c503-2549-4f6e-a737-da33fe5a6ab7",
   "metadata": {},
   "source": [
    "#### Modelo con gini"
   ]
  },
  {
   "cell_type": "code",
   "execution_count": 141,
   "id": "f264953c-0ae3-4a5b-b20e-5758f39b0d3f",
   "metadata": {},
   "outputs": [
    {
     "data": {
      "text/plain": [
       "RandomForestClassifier(max_depth=7, min_samples_split=20, n_estimators=10)"
      ]
     },
     "execution_count": 141,
     "metadata": {},
     "output_type": "execute_result"
    }
   ],
   "source": [
    "#Entrenamiento\n",
    "clf2 = RandomForestClassifier(max_depth = 7, min_samples_split= 20, n_estimators= 10,criterion='gini')\n",
    "clf2.fit(X_train,y_train)"
   ]
  },
  {
   "cell_type": "code",
   "execution_count": 142,
   "id": "23d1f2fa-e064-4258-aaea-69105070b0fa",
   "metadata": {},
   "outputs": [
    {
     "data": {
      "text/plain": [
       "0.9714285714285714"
      ]
     },
     "execution_count": 142,
     "metadata": {},
     "output_type": "execute_result"
    }
   ],
   "source": [
    "#Score: Métrica accuracy promedio de entrenamiento\n",
    "clf2.score(X_train, y_train)"
   ]
  },
  {
   "cell_type": "code",
   "execution_count": 143,
   "id": "38e936ca-6f37-480c-9c70-7eaa33ff2ea3",
   "metadata": {},
   "outputs": [
    {
     "data": {
      "text/plain": [
       "0.9111111111111111"
      ]
     },
     "execution_count": 143,
     "metadata": {},
     "output_type": "execute_result"
    }
   ],
   "source": [
    "#Score: Métrica accuracy promedio en la validación\n",
    "clf2.score(X_test, y_test)"
   ]
  },
  {
   "cell_type": "markdown",
   "id": "2b19d64a-5577-40ec-9f1d-c7f8e5953099",
   "metadata": {},
   "source": [
    "## 5. Evaluación del modelo"
   ]
  },
  {
   "cell_type": "markdown",
   "id": "c07742a8-d9cb-461f-ae3f-a1b020e55ded",
   "metadata": {},
   "source": [
    "#### Matriz de confusión"
   ]
  },
  {
   "cell_type": "code",
   "execution_count": 131,
   "id": "7aff5d71-31aa-4a7d-8b37-7cac77675ca7",
   "metadata": {},
   "outputs": [
    {
     "name": "stdout",
     "output_type": "stream",
     "text": [
      "confusion_matrix\n",
      "[[15  0  0]\n",
      " [ 0 13  0]\n",
      " [ 0  4 13]]\n"
     ]
    }
   ],
   "source": [
    "#Matriz de confusión\n",
    "pred1 = clf.predict(X_test)\n",
    "print(\"confusion_matrix\")\n",
    "print(confusion_matrix(y_test, pred1))"
   ]
  },
  {
   "cell_type": "markdown",
   "id": "82ec3de5-b109-489a-8d04-317b94833ae4",
   "metadata": {},
   "source": [
    "#### Métricas\n",
    "Documentación https://scikit-learn.org/stable/modules/model_evaluation.html#scoring-parameter"
   ]
  },
  {
   "cell_type": "code",
   "execution_count": 132,
   "id": "65967ad1-545b-4358-8941-3cbd410e5ec8",
   "metadata": {},
   "outputs": [
    {
     "name": "stdout",
     "output_type": "stream",
     "text": [
      "Reporte de precisión\n",
      "              precision    recall  f1-score   support\n",
      "\n",
      "           0       1.00      1.00      1.00        15\n",
      "           1       0.76      1.00      0.87        13\n",
      "           2       1.00      0.76      0.87        17\n",
      "\n",
      "    accuracy                           0.91        45\n",
      "   macro avg       0.92      0.92      0.91        45\n",
      "weighted avg       0.93      0.91      0.91        45\n",
      "\n"
     ]
    }
   ],
   "source": [
    "#Reporte\n",
    "print(\"Reporte de precisión\")\n",
    "print(classification_report(y_test, pred1))"
   ]
  },
  {
   "cell_type": "markdown",
   "id": "c22d4557-223b-4d2e-92ae-58eaa1074d20",
   "metadata": {},
   "source": [
    "## 6. Features importance\n",
    "Cálculo de la importancia de cada variable en el modelo, ya sea por el índice gini o entropía"
   ]
  },
  {
   "cell_type": "code",
   "execution_count": 133,
   "id": "dcd5366a-23a0-430e-b8b9-48fb448e0a36",
   "metadata": {},
   "outputs": [
    {
     "data": {
      "text/plain": [
       "petal length (cm)    0.479044\n",
       "petal width (cm)     0.402327\n",
       "sepal length (cm)    0.100525\n",
       "sepal width (cm)     0.018104\n",
       "dtype: float64"
      ]
     },
     "execution_count": 133,
     "metadata": {},
     "output_type": "execute_result"
    }
   ],
   "source": [
    "# Importancia: Numerical feature importances\n",
    "importances = list(clf.feature_importances_)\n",
    "feature_imp = pd.Series(clf.feature_importances_,index=data.feature_names).sort_values(ascending=False)\n",
    "feature_imp"
   ]
  },
  {
   "cell_type": "code",
   "execution_count": 145,
   "id": "e668b2bc-4825-4ccf-9728-072fb75d4177",
   "metadata": {},
   "outputs": [
    {
     "data": {
      "image/png": "[encoded data removed]",
      "text/plain": [
       "<Figure size 432x288 with 1 Axes>"
      ]
     },
     "metadata": {
      "needs_background": "light"
     },
     "output_type": "display_data"
    }
   ],
   "source": [
    "#Gráfica de importancia\n",
    "%matplotlib inline\n",
    "# Gráfico de barras\n",
    "sns.barplot(x=feature_imp, y=feature_imp.index)\n",
    "# Etiquetas y formato del gráfico\n",
    "plt.xlabel('Feature Importance Score')\n",
    "plt.ylabel('Features')\n",
    "plt.title(\"Visualizing Important Features\")\n",
    "plt.show()"
   ]
  }
 ],
 "metadata": {
  "kernelspec": {
   "display_name": "Python 3",
   "language": "python",
   "name": "python3"
  },
  "language_info": {
   "codemirror_mode": {
    "name": "ipython",
    "version": 3
   },
   "file_extension": ".py",
   "mimetype": "text/x-python",
   "name": "python",
   "nbconvert_exporter": "python",
   "pygments_lexer": "ipython3",
   "version": "3.8.8"
  }
 },
 "nbformat": 4,
 "nbformat_minor": 5
}
