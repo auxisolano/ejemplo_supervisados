{
 "cells": [
  {
   "cell_type": "markdown",
   "id": "4185a74f-ad1e-4c9e-ae1e-b34a6e8ec484",
   "metadata": {},
   "source": [
    "# Naive Bayes para clasificación\n",
    "- Fuente ejemplo: https://medium.com/datos-y-ciencia/algoritmos-naive-bayes-fudamentos-e-implementaci%C3%B3n-4bcb24b307f\n",
    "- Base de datos: https://www.kaggle.com/datasets/uciml/sms-spam-collection-dataset\n",
    "- Documentación: https://scikit-learn.org/stable/modules/naive_bayes.html\n",
    "    - MultinomialNB: https://scikit-learn.org/stable/modules/generated/sklearn.naive_bayes.MultinomialNB.html#sklearn-naive-bayes-multinomialnb\n",
    "    - GaussianNB: https://scikit-learn.org/stable/modules/generated/sklearn.naive_bayes.GaussianNB.html\n",
    "- Objetivo: Clasificar entre spam o ham\n",
    "\n",
    "Vectorizar: https://scikit-learn.org/stable/modules/generated/sklearn.feature_extraction.text.CountVectorizer.html"
   ]
  },
  {
   "cell_type": "markdown",
   "id": "cbc40749-e98b-4449-85c3-ce63cb4fedc2",
   "metadata": {},
   "source": [
    "## 1. Cargar librerías y datos\n",
    "### Librerías"
   ]
  },
  {
   "cell_type": "code",
   "execution_count": 1,
   "id": "f44129cf-6192-4680-b184-09d5273a3cc0",
   "metadata": {},
   "outputs": [],
   "source": [
    "#Manejo de datos\n",
    "import pandas as pd\n",
    "import numpy as np\n",
    "\n",
    "#Modelo\n",
    "from sklearn.datasets import load_iris\n",
    "from sklearn.naive_bayes import GaussianNB\n",
    "from sklearn.naive_bayes import MultinomialNB\n",
    "\n",
    "#Preprocesamiento\n",
    "from sklearn.feature_extraction.text import CountVectorizer\n",
    "from sklearn.model_selection import train_test_split\n",
    "\n",
    "#Evaluación del modelo\n",
    "from sklearn.metrics import confusion_matrix\n",
    "from sklearn.metrics import accuracy_score, precision_score, recall_score, f1_score"
   ]
  },
  {
   "cell_type": "markdown",
   "id": "36722a4c-5f91-4ccb-b97f-2151db0a2572",
   "metadata": {},
   "source": [
    "### Datos\n",
    "Colecciónde mensajes SMS etiquetados como spam o ham (legítimo)"
   ]
  },
  {
   "cell_type": "code",
   "execution_count": 2,
   "id": "cd0a013e-06c5-4e01-b027-c7fc60b969e2",
   "metadata": {},
   "outputs": [
    {
     "data": {
      "text/html": [
       "<div>\n",
       "<style scoped>\n",
       "    .dataframe tbody tr th:only-of-type {\n",
       "        vertical-align: middle;\n",
       "    }\n",
       "\n",
       "    .dataframe tbody tr th {\n",
       "        vertical-align: top;\n",
       "    }\n",
       "\n",
       "    .dataframe thead th {\n",
       "        text-align: right;\n",
       "    }\n",
       "</style>\n",
       "<table border=\"1\" class=\"dataframe\">\n",
       "  <thead>\n",
       "    <tr style=\"text-align: right;\">\n",
       "      <th></th>\n",
       "      <th>label</th>\n",
       "      <th>sms_message</th>\n",
       "    </tr>\n",
       "  </thead>\n",
       "  <tbody>\n",
       "    <tr>\n",
       "      <th>0</th>\n",
       "      <td>ham</td>\n",
       "      <td>Go until jurong point, crazy.. Available only ...</td>\n",
       "    </tr>\n",
       "    <tr>\n",
       "      <th>1</th>\n",
       "      <td>ham</td>\n",
       "      <td>Ok lar... Joking wif u oni...</td>\n",
       "    </tr>\n",
       "    <tr>\n",
       "      <th>2</th>\n",
       "      <td>spam</td>\n",
       "      <td>Free entry in 2 a wkly comp to win FA Cup fina...</td>\n",
       "    </tr>\n",
       "    <tr>\n",
       "      <th>3</th>\n",
       "      <td>ham</td>\n",
       "      <td>U dun say so early hor... U c already then say...</td>\n",
       "    </tr>\n",
       "    <tr>\n",
       "      <th>4</th>\n",
       "      <td>ham</td>\n",
       "      <td>Nah I don't think he goes to usf, he lives aro...</td>\n",
       "    </tr>\n",
       "    <tr>\n",
       "      <th>5</th>\n",
       "      <td>spam</td>\n",
       "      <td>FreeMsg Hey there darling it's been 3 week's n...</td>\n",
       "    </tr>\n",
       "    <tr>\n",
       "      <th>6</th>\n",
       "      <td>ham</td>\n",
       "      <td>Even my brother is not like to speak with me. ...</td>\n",
       "    </tr>\n",
       "    <tr>\n",
       "      <th>7</th>\n",
       "      <td>ham</td>\n",
       "      <td>As per your request 'Melle Melle (Oru Minnamin...</td>\n",
       "    </tr>\n",
       "    <tr>\n",
       "      <th>8</th>\n",
       "      <td>spam</td>\n",
       "      <td>WINNER!! As a valued network customer you have...</td>\n",
       "    </tr>\n",
       "    <tr>\n",
       "      <th>9</th>\n",
       "      <td>spam</td>\n",
       "      <td>Had your mobile 11 months or more? U R entitle...</td>\n",
       "    </tr>\n",
       "  </tbody>\n",
       "</table>\n",
       "</div>"
      ],
      "text/plain": [
       "  label                                        sms_message\n",
       "0   ham  Go until jurong point, crazy.. Available only ...\n",
       "1   ham                      Ok lar... Joking wif u oni...\n",
       "2  spam  Free entry in 2 a wkly comp to win FA Cup fina...\n",
       "3   ham  U dun say so early hor... U c already then say...\n",
       "4   ham  Nah I don't think he goes to usf, he lives aro...\n",
       "5  spam  FreeMsg Hey there darling it's been 3 week's n...\n",
       "6   ham  Even my brother is not like to speak with me. ...\n",
       "7   ham  As per your request 'Melle Melle (Oru Minnamin...\n",
       "8  spam  WINNER!! As a valued network customer you have...\n",
       "9  spam  Had your mobile 11 months or more? U R entitle..."
      ]
     },
     "execution_count": 2,
     "metadata": {},
     "output_type": "execute_result"
    }
   ],
   "source": [
    "#Datos en estsa misma carpeta\n",
    "dataframe = pd.read_csv(r\"spam.csv\",sep=',',encoding='latin-1')\n",
    "dataframe = dataframe.drop(columns=['Unnamed: 2','Unnamed: 3','Unnamed: 4'],axis=1)\n",
    "dataframe = dataframe.set_axis(['label','sms_message'], axis=1)\n",
    "dataframe.head(10)"
   ]
  },
  {
   "cell_type": "markdown",
   "id": "be047455-685e-4ff9-b66b-759824a17b2e",
   "metadata": {},
   "source": [
    "## 2. Comprensión inicial de los datos\n",
    "### Datos generales"
   ]
  },
  {
   "cell_type": "code",
   "execution_count": 3,
   "id": "7a61c02a-04c7-4ea8-abd9-ef4671a7ae29",
   "metadata": {},
   "outputs": [
    {
     "name": "stdout",
     "output_type": "stream",
     "text": [
      "label\n",
      "ham     4825\n",
      "spam     747\n",
      "dtype: int64\n",
      "label\n",
      "ham     0.865937\n",
      "spam    0.134063\n",
      "dtype: float64\n"
     ]
    }
   ],
   "source": [
    "# Cantidad por categoría\n",
    "print(dataframe.groupby('label').size())\n",
    "# Proporción por categoría\n",
    "print(dataframe.groupby('label').size()/len(dataframe))"
   ]
  },
  {
   "cell_type": "markdown",
   "id": "235d99d2-518d-4153-bedf-04caf8259c41",
   "metadata": {},
   "source": [
    "### Preprocesamiento de Datos\n",
    "Convertiremos las etiquetas en variables binarias, 0 representará ‘ham’ y 1 representará ‘spam’."
   ]
  },
  {
   "cell_type": "code",
   "execution_count": 4,
   "id": "590a3eb8-6d7e-4668-8aed-a20c5175f3e6",
   "metadata": {},
   "outputs": [
    {
     "data": {
      "text/html": [
       "<div>\n",
       "<style scoped>\n",
       "    .dataframe tbody tr th:only-of-type {\n",
       "        vertical-align: middle;\n",
       "    }\n",
       "\n",
       "    .dataframe tbody tr th {\n",
       "        vertical-align: top;\n",
       "    }\n",
       "\n",
       "    .dataframe thead th {\n",
       "        text-align: right;\n",
       "    }\n",
       "</style>\n",
       "<table border=\"1\" class=\"dataframe\">\n",
       "  <thead>\n",
       "    <tr style=\"text-align: right;\">\n",
       "      <th></th>\n",
       "      <th>label</th>\n",
       "      <th>sms_message</th>\n",
       "      <th>label1</th>\n",
       "    </tr>\n",
       "  </thead>\n",
       "  <tbody>\n",
       "    <tr>\n",
       "      <th>0</th>\n",
       "      <td>0</td>\n",
       "      <td>Go until jurong point, crazy.. Available only ...</td>\n",
       "      <td>ham</td>\n",
       "    </tr>\n",
       "    <tr>\n",
       "      <th>1</th>\n",
       "      <td>0</td>\n",
       "      <td>Ok lar... Joking wif u oni...</td>\n",
       "      <td>ham</td>\n",
       "    </tr>\n",
       "    <tr>\n",
       "      <th>2</th>\n",
       "      <td>1</td>\n",
       "      <td>Free entry in 2 a wkly comp to win FA Cup fina...</td>\n",
       "      <td>spam</td>\n",
       "    </tr>\n",
       "    <tr>\n",
       "      <th>3</th>\n",
       "      <td>0</td>\n",
       "      <td>U dun say so early hor... U c already then say...</td>\n",
       "      <td>ham</td>\n",
       "    </tr>\n",
       "    <tr>\n",
       "      <th>4</th>\n",
       "      <td>0</td>\n",
       "      <td>Nah I don't think he goes to usf, he lives aro...</td>\n",
       "      <td>ham</td>\n",
       "    </tr>\n",
       "  </tbody>\n",
       "</table>\n",
       "</div>"
      ],
      "text/plain": [
       "   label                                        sms_message label1\n",
       "0      0  Go until jurong point, crazy.. Available only ...    ham\n",
       "1      0                      Ok lar... Joking wif u oni...    ham\n",
       "2      1  Free entry in 2 a wkly comp to win FA Cup fina...   spam\n",
       "3      0  U dun say so early hor... U c already then say...    ham\n",
       "4      0  Nah I don't think he goes to usf, he lives aro...    ham"
      ]
     },
     "execution_count": 4,
     "metadata": {},
     "output_type": "execute_result"
    }
   ],
   "source": [
    "#Duplicar columna para estar segura de cuál es cuál\n",
    "dataframe['label1'] = dataframe['label']\n",
    "# Conversion\n",
    "dataframe['label'] = dataframe.label.map({'ham':0, 'spam':1})\n",
    "dataframe.head()"
   ]
  },
  {
   "cell_type": "markdown",
   "id": "aa08d4db-1ff9-4441-bc1a-38265a534c78",
   "metadata": {},
   "source": [
    "## 3. Peparación de DataFrame"
   ]
  },
  {
   "cell_type": "markdown",
   "id": "cf58f62c-dc0e-4faf-9538-654e50c61af2",
   "metadata": {},
   "source": [
    "### Train-Test split"
   ]
  },
  {
   "cell_type": "code",
   "execution_count": 5,
   "id": "d022b4de-88eb-4587-ab1f-40b0a5ea8fa2",
   "metadata": {},
   "outputs": [
    {
     "name": "stdout",
     "output_type": "stream",
     "text": [
      "Number of rows in the total set: 5572\n",
      "Number of rows in the training set: 4179\n",
      "Number of rows in the test set: 1393\n"
     ]
    }
   ],
   "source": [
    "#División del DataSet en train y test\n",
    "X_train, X_test, y_train, y_test = train_test_split(dataframe['sms_message'], dataframe['label'], random_state=1)\n",
    "print('Number of rows in the total set: {}'.format(dataframe.shape[0]))\n",
    "print('Number of rows in the training set: {}'.format(X_train.shape[0]))\n",
    "print('Number of rows in the test set: {}'.format(X_test.shape[0]))"
   ]
  },
  {
   "cell_type": "code",
   "execution_count": 6,
   "id": "f33d992b-487d-42c1-b31c-180d9b446ec1",
   "metadata": {},
   "outputs": [
    {
     "data": {
      "text/plain": [
       "710     Height of Confidence: All the Aeronautics prof...\n",
       "3740                                        2/2 146tf150p\n",
       "2711    Wen ur lovable bcums angry wid u, dnt take it ...\n",
       "3155                    Long time. You remember me today.\n",
       "3748    Dear Voucher Holder 2 claim your 1st class air...\n",
       "Name: sms_message, dtype: object"
      ]
     },
     "execution_count": 6,
     "metadata": {},
     "output_type": "execute_result"
    }
   ],
   "source": [
    "X_train.head()"
   ]
  },
  {
   "cell_type": "code",
   "execution_count": 7,
   "id": "9bfe1917-6ac7-47e6-8e44-a9ad22a43c32",
   "metadata": {},
   "outputs": [
    {
     "data": {
      "text/plain": [
       "710     0\n",
       "3740    1\n",
       "2711    0\n",
       "3155    0\n",
       "3748    1\n",
       "Name: label, dtype: int64"
      ]
     },
     "execution_count": 7,
     "metadata": {},
     "output_type": "execute_result"
    }
   ],
   "source": [
    "y_train.head()"
   ]
  },
  {
   "cell_type": "markdown",
   "id": "a76163ef-1407-44fa-ba96-840a68155d36",
   "metadata": {},
   "source": [
    "### Bag of Words (BoW)\n",
    "- Vectorizar: La idea es tomar un fragmento de texto y contar la frecuencia de las palabras en el mismo.\n",
    "- Matriz de frecuencia: Podemos convertir un conjunto de documentos en una matriz, siendo cada documento una fila y cada palabra (token) una columna, y los valores correspondientes (fila, columna) son la frecuencia de ocurrencia de cada palabra (token) en el documento."
   ]
  },
  {
   "cell_type": "code",
   "execution_count": 8,
   "id": "4c356c27-2527-479f-b34e-ab42ee5e15a4",
   "metadata": {},
   "outputs": [
    {
     "name": "stdout",
     "output_type": "stream",
     "text": [
      "['00' '000' '000pes' ... 'ûïharry' 'ûò' 'ûówell']\n",
      "[[0 0 0 ... 0 0 0]\n",
      " [0 0 0 ... 0 0 0]\n",
      " [0 0 0 ... 0 0 0]\n",
      " ...\n",
      " [0 0 0 ... 0 0 0]\n",
      " [0 0 0 ... 0 0 0]\n",
      " [0 0 0 ... 0 0 0]]\n"
     ]
    }
   ],
   "source": [
    "# CountVectorizer method\n",
    "count_vector = CountVectorizer()\n",
    "# Ajuste como vector a los datos de entrenamiento y luego devuelva la matriz.\n",
    "training_data = count_vector.fit_transform(X_train)\n",
    "#palabras\n",
    "print(count_vector.get_feature_names_out())\n",
    "#matriz total\n",
    "print(training_data.toarray())"
   ]
  },
  {
   "cell_type": "code",
   "execution_count": 9,
   "id": "7eb704bd-1560-4056-a443-b628f14317b8",
   "metadata": {},
   "outputs": [
    {
     "name": "stdout",
     "output_type": "stream",
     "text": [
      "['00' '000' '000pes' ... 'ûïharry' 'ûò' 'ûówell']\n",
      "[[0 0 0 ... 0 0 0]\n",
      " [0 0 0 ... 0 0 0]\n",
      " [0 0 0 ... 0 0 0]\n",
      " ...\n",
      " [0 0 0 ... 0 0 0]\n",
      " [0 0 0 ... 0 0 0]\n",
      " [0 0 0 ... 0 0 0]]\n"
     ]
    }
   ],
   "source": [
    "# Transformar los datos de prueba y devuelve la matriz.\n",
    "testing_data = count_vector.transform(X_test)\n",
    "#palabras\n",
    "print(count_vector.get_feature_names_out())\n",
    "#mariz total\n",
    "print(testing_data.toarray())"
   ]
  },
  {
   "cell_type": "markdown",
   "id": "105812e4-a7b1-4a0f-b355-24f6ef2fa3fd",
   "metadata": {},
   "source": [
    "## 4. Modelo"
   ]
  },
  {
   "cell_type": "markdown",
   "id": "63cc4078-9d29-4ec2-aa82-78f2b3b0248d",
   "metadata": {},
   "source": [
    "### 4.1 Modelo MultinomialNB\n",
    "#### Entrenamiento"
   ]
  },
  {
   "cell_type": "code",
   "execution_count": 10,
   "id": "683e2864-a8d0-4758-8287-725f9f1b3ed5",
   "metadata": {},
   "outputs": [
    {
     "data": {
      "text/plain": [
       "MultinomialNB()"
      ]
     },
     "execution_count": 10,
     "metadata": {},
     "output_type": "execute_result"
    }
   ],
   "source": [
    "#Entrenamiento\n",
    "naive_bayes = MultinomialNB()\n",
    "naive_bayes.fit(training_data, y_train)"
   ]
  },
  {
   "cell_type": "code",
   "execution_count": 11,
   "id": "1f6fdec8-b068-43d4-aade-12bdf45c8956",
   "metadata": {},
   "outputs": [
    {
     "data": {
      "text/plain": [
       "0.9937784158889686"
      ]
     },
     "execution_count": 11,
     "metadata": {},
     "output_type": "execute_result"
    }
   ],
   "source": [
    "#Score: accuracy promedio\n",
    "naive_bayes.score(training_data, y_train)"
   ]
  },
  {
   "cell_type": "markdown",
   "id": "387a0ca1-1e1f-4f19-bdb6-72445abf493a",
   "metadata": {},
   "source": [
    "#### Predicción"
   ]
  },
  {
   "cell_type": "code",
   "execution_count": 12,
   "id": "7db973bc-8afb-4014-9b1a-bdfb7c007087",
   "metadata": {},
   "outputs": [
    {
     "data": {
      "text/plain": [
       "array([0, 0, 0, ..., 0, 0, 0], dtype=int64)"
      ]
     },
     "execution_count": 12,
     "metadata": {},
     "output_type": "execute_result"
    }
   ],
   "source": [
    "# Aplicación del modelo en los datos de prueba\n",
    "predicciones = naive_bayes.predict(testing_data)\n",
    "predicciones"
   ]
  },
  {
   "cell_type": "code",
   "execution_count": 13,
   "id": "5ec3b17c-e859-475c-a9cc-69ca074185b3",
   "metadata": {},
   "outputs": [
    {
     "name": "stdout",
     "output_type": "stream",
     "text": [
      "clasificación: [ham,spam]\n"
     ]
    },
    {
     "data": {
      "text/plain": [
       "array([[9.99867733e-01, 1.32267211e-04],\n",
       "       [9.99804615e-01, 1.95384688e-04],\n",
       "       [9.99997809e-01, 2.19058026e-06],\n",
       "       ...,\n",
       "       [9.99759900e-01, 2.40100285e-04],\n",
       "       [9.99998225e-01, 1.77530175e-06],\n",
       "       [9.99991340e-01, 8.66005064e-06]])"
      ]
     },
     "execution_count": 13,
     "metadata": {},
     "output_type": "execute_result"
    }
   ],
   "source": [
    "#Probabilidad de clasificación\n",
    "print(\"clasificación: [ham,spam]\")\n",
    "naive_bayes.predict_proba(testing_data)"
   ]
  },
  {
   "cell_type": "code",
   "execution_count": 14,
   "id": "0b3525c7-2ea8-420f-ae82-0cb9f3e3297e",
   "metadata": {},
   "outputs": [
    {
     "data": {
      "text/plain": [
       "0.9856424982053122"
      ]
     },
     "execution_count": 14,
     "metadata": {},
     "output_type": "execute_result"
    }
   ],
   "source": [
    "#Score: accuracy promedio\n",
    "naive_bayes.score(testing_data, y_test)"
   ]
  },
  {
   "cell_type": "markdown",
   "id": "569d2a15-fd8a-4335-8221-5108045c01ee",
   "metadata": {},
   "source": [
    "#### Tabla de resultados"
   ]
  },
  {
   "cell_type": "code",
   "execution_count": 15,
   "id": "2dce903c-ddc4-440c-93e5-db7f04c79f60",
   "metadata": {},
   "outputs": [
    {
     "data": {
      "text/html": [
       "<div>\n",
       "<style scoped>\n",
       "    .dataframe tbody tr th:only-of-type {\n",
       "        vertical-align: middle;\n",
       "    }\n",
       "\n",
       "    .dataframe tbody tr th {\n",
       "        vertical-align: top;\n",
       "    }\n",
       "\n",
       "    .dataframe thead th {\n",
       "        text-align: right;\n",
       "    }\n",
       "</style>\n",
       "<table border=\"1\" class=\"dataframe\">\n",
       "  <thead>\n",
       "    <tr style=\"text-align: right;\">\n",
       "      <th></th>\n",
       "      <th>sms_message</th>\n",
       "      <th>spam</th>\n",
       "      <th>spam prediction</th>\n",
       "      <th>T/F</th>\n",
       "    </tr>\n",
       "  </thead>\n",
       "  <tbody>\n",
       "    <tr>\n",
       "      <th>1078</th>\n",
       "      <td>Convey my regards to him</td>\n",
       "      <td>0</td>\n",
       "      <td>0</td>\n",
       "      <td>True</td>\n",
       "    </tr>\n",
       "    <tr>\n",
       "      <th>4028</th>\n",
       "      <td>[Û_] anyway, many good evenings to u! s</td>\n",
       "      <td>0</td>\n",
       "      <td>0</td>\n",
       "      <td>True</td>\n",
       "    </tr>\n",
       "    <tr>\n",
       "      <th>958</th>\n",
       "      <td>My sort code is  and acc no is . The bank is n...</td>\n",
       "      <td>0</td>\n",
       "      <td>0</td>\n",
       "      <td>True</td>\n",
       "    </tr>\n",
       "    <tr>\n",
       "      <th>4642</th>\n",
       "      <td>Sorry i din lock my keypad.</td>\n",
       "      <td>0</td>\n",
       "      <td>0</td>\n",
       "      <td>True</td>\n",
       "    </tr>\n",
       "    <tr>\n",
       "      <th>4674</th>\n",
       "      <td>Hi babe its Chloe, how r u? I was smashed on s...</td>\n",
       "      <td>1</td>\n",
       "      <td>0</td>\n",
       "      <td>False</td>\n",
       "    </tr>\n",
       "    <tr>\n",
       "      <th>...</th>\n",
       "      <td>...</td>\n",
       "      <td>...</td>\n",
       "      <td>...</td>\n",
       "      <td>...</td>\n",
       "    </tr>\n",
       "    <tr>\n",
       "      <th>3207</th>\n",
       "      <td>Oops my phone died and I didn't even know. Yea...</td>\n",
       "      <td>0</td>\n",
       "      <td>0</td>\n",
       "      <td>True</td>\n",
       "    </tr>\n",
       "    <tr>\n",
       "      <th>4655</th>\n",
       "      <td>K, I'll work something out</td>\n",
       "      <td>0</td>\n",
       "      <td>0</td>\n",
       "      <td>True</td>\n",
       "    </tr>\n",
       "    <tr>\n",
       "      <th>1140</th>\n",
       "      <td>Oh:)as usual vijay film or its different?</td>\n",
       "      <td>0</td>\n",
       "      <td>0</td>\n",
       "      <td>True</td>\n",
       "    </tr>\n",
       "    <tr>\n",
       "      <th>1793</th>\n",
       "      <td>You bad girl. I can still remember them</td>\n",
       "      <td>0</td>\n",
       "      <td>0</td>\n",
       "      <td>True</td>\n",
       "    </tr>\n",
       "    <tr>\n",
       "      <th>1710</th>\n",
       "      <td>(No promises on when though, haven't even gott...</td>\n",
       "      <td>0</td>\n",
       "      <td>0</td>\n",
       "      <td>True</td>\n",
       "    </tr>\n",
       "  </tbody>\n",
       "</table>\n",
       "<p>1393 rows × 4 columns</p>\n",
       "</div>"
      ],
      "text/plain": [
       "                                            sms_message  spam  \\\n",
       "1078                           Convey my regards to him     0   \n",
       "4028           [Û_] anyway, many good evenings to u! s     0   \n",
       "958   My sort code is  and acc no is . The bank is n...     0   \n",
       "4642                        Sorry i din lock my keypad.     0   \n",
       "4674  Hi babe its Chloe, how r u? I was smashed on s...     1   \n",
       "...                                                 ...   ...   \n",
       "3207  Oops my phone died and I didn't even know. Yea...     0   \n",
       "4655                         K, I'll work something out     0   \n",
       "1140          Oh:)as usual vijay film or its different?     0   \n",
       "1793            You bad girl. I can still remember them     0   \n",
       "1710  (No promises on when though, haven't even gott...     0   \n",
       "\n",
       "      spam prediction    T/F  \n",
       "1078                0   True  \n",
       "4028                0   True  \n",
       "958                 0   True  \n",
       "4642                0   True  \n",
       "4674                0  False  \n",
       "...               ...    ...  \n",
       "3207                0   True  \n",
       "4655                0   True  \n",
       "1140                0   True  \n",
       "1793                0   True  \n",
       "1710                0   True  \n",
       "\n",
       "[1393 rows x 4 columns]"
      ]
     },
     "execution_count": 15,
     "metadata": {},
     "output_type": "execute_result"
    }
   ],
   "source": [
    "tabla = pd.DataFrame(X_test)\n",
    "#renombrar columnas\n",
    "tabla = tabla.set_axis(['sms_message'], axis=1)\n",
    "#Agregar y_verdaderas\n",
    "tabla['spam'] = y_test\n",
    "#Agregar y de predicción\n",
    "tabla['spam prediction'] = predicciones\n",
    "tabla['T/F'] = tabla['spam']==tabla['spam prediction']\n",
    "tabla"
   ]
  },
  {
   "cell_type": "code",
   "execution_count": 16,
   "id": "8fa823e7-2de7-459b-8955-bb57fa4681ba",
   "metadata": {},
   "outputs": [
    {
     "name": "stdout",
     "output_type": "stream",
     "text": [
      "True     1373\n",
      "False      20\n",
      "Name: T/F, dtype: int64\n",
      "True     98.56425\n",
      "False     1.43575\n",
      "Name: T/F, dtype: float64\n"
     ]
    }
   ],
   "source": [
    "#Cantidad verdader/falso\n",
    "print(tabla['T/F'].value_counts())\n",
    "\n",
    "#Proporción verdader/falso\n",
    "print(((tabla['T/F'].value_counts())/len(tabla))*100)"
   ]
  },
  {
   "cell_type": "markdown",
   "id": "f8b2c7b3-c35b-4535-aa71-05795166fb25",
   "metadata": {},
   "source": [
    "### 4.2 Modelo GaussianNB\n",
    "#### Entrenamiento"
   ]
  },
  {
   "cell_type": "code",
   "execution_count": 17,
   "id": "03d56995-01c5-49ab-8174-066bb6f862ac",
   "metadata": {},
   "outputs": [
    {
     "data": {
      "text/plain": [
       "GaussianNB()"
      ]
     },
     "execution_count": 17,
     "metadata": {},
     "output_type": "execute_result"
    }
   ],
   "source": [
    "#Pasar a matriz los datos de entrenamiento\n",
    "training_data = training_data.toarray()\n",
    "#Aplicación de modelo con Gauss\n",
    "clf = GaussianNB()\n",
    "clf.fit(training_data, y_train)"
   ]
  },
  {
   "cell_type": "code",
   "execution_count": 18,
   "id": "647e031c-f335-43a9-b05f-d6b6d3764828",
   "metadata": {},
   "outputs": [
    {
     "data": {
      "text/plain": [
       "0.9535774108638431"
      ]
     },
     "execution_count": 18,
     "metadata": {},
     "output_type": "execute_result"
    }
   ],
   "source": [
    "#Score: accuracy promedio\n",
    "clf.score(training_data, y_train)"
   ]
  },
  {
   "cell_type": "markdown",
   "id": "ca5ca19f-fafa-4e56-a755-d2ac8c757c0f",
   "metadata": {},
   "source": [
    "#### Predicción"
   ]
  },
  {
   "cell_type": "code",
   "execution_count": 19,
   "id": "4618f0df-6e86-4ac5-8135-81a84d102efc",
   "metadata": {},
   "outputs": [
    {
     "data": {
      "text/plain": [
       "array([0, 0, 0, ..., 0, 0, 0], dtype=int64)"
      ]
     },
     "execution_count": 19,
     "metadata": {},
     "output_type": "execute_result"
    }
   ],
   "source": [
    "#Pasar a matriz los datos de entrenamiento\n",
    "testing_data = testing_data.toarray()\n",
    "#Aplicación del modelo\n",
    "predicciones = clf.predict(testing_data)\n",
    "predicciones"
   ]
  },
  {
   "cell_type": "code",
   "execution_count": 20,
   "id": "47bc4759-b0d4-4fbb-96a8-729931791afd",
   "metadata": {},
   "outputs": [
    {
     "name": "stdout",
     "output_type": "stream",
     "text": [
      "clasificación: [ham,spam]\n"
     ]
    },
    {
     "data": {
      "text/plain": [
       "array([[1., 0.],\n",
       "       [1., 0.],\n",
       "       [1., 0.],\n",
       "       ...,\n",
       "       [1., 0.],\n",
       "       [1., 0.],\n",
       "       [1., 0.]])"
      ]
     },
     "execution_count": 20,
     "metadata": {},
     "output_type": "execute_result"
    }
   ],
   "source": [
    "#Probabilidad de clasificación\n",
    "print(\"clasificación: [ham,spam]\")\n",
    "clf.predict_proba(testing_data)"
   ]
  },
  {
   "cell_type": "code",
   "execution_count": 21,
   "id": "2235786f-c809-4f27-b041-bd0880673b58",
   "metadata": {},
   "outputs": [
    {
     "data": {
      "text/plain": [
       "0.9095477386934674"
      ]
     },
     "execution_count": 21,
     "metadata": {},
     "output_type": "execute_result"
    }
   ],
   "source": [
    "#Score: accuracy promedio\n",
    "clf.score(testing_data, y_test)"
   ]
  },
  {
   "cell_type": "markdown",
   "id": "50191d08-9f9f-4777-8920-f086e6812bf0",
   "metadata": {},
   "source": [
    "## 5. Evaluación del modelo"
   ]
  },
  {
   "cell_type": "markdown",
   "id": "4a089503-db7f-4b08-bc68-0099b95be3c4",
   "metadata": {},
   "source": [
    "#### Matriz de confusión"
   ]
  },
  {
   "cell_type": "code",
   "execution_count": 22,
   "id": "d478a34d-cd6a-4826-8274-03219bb4aca9",
   "metadata": {},
   "outputs": [
    {
     "name": "stdout",
     "output_type": "stream",
     "text": [
      "confusion_matrix\n",
      "[[1205    8]\n",
      " [  12  168]]\n"
     ]
    }
   ],
   "source": [
    "#Matriz de confusión\n",
    "pred = naive_bayes.predict(testing_data)\n",
    "print(\"confusion_matrix\")\n",
    "print(confusion_matrix(y_test, pred))"
   ]
  },
  {
   "cell_type": "markdown",
   "id": "bcf2921f-4f42-4507-8e0e-243e727c5eb8",
   "metadata": {},
   "source": [
    "#### Métricas"
   ]
  },
  {
   "cell_type": "code",
   "execution_count": 23,
   "id": "b16adc3f-5f59-4105-ae10-5c527f8f1137",
   "metadata": {},
   "outputs": [
    {
     "name": "stdout",
     "output_type": "stream",
     "text": [
      "Accuracy score:  0.9856424982053122\n"
     ]
    }
   ],
   "source": [
    "#Accuracy: Considera (TP+TN)/(TP+FN+TN+FN)\n",
    "accuracy = accuracy_score(y_test, pred)\n",
    "print('Accuracy score: ', format(accuracy))"
   ]
  },
  {
   "cell_type": "code",
   "execution_count": 24,
   "id": "fbfd683c-4c05-4f85-b653-bb5f443bb046",
   "metadata": {},
   "outputs": [
    {
     "name": "stdout",
     "output_type": "stream",
     "text": [
      "Precision score:  0.9545454545454546\n"
     ]
    }
   ],
   "source": [
    "#Precision: Considera TP/(TP+FP)\n",
    "precision = precision_score(y_test, pred)\n",
    "print('Precision score: ', format(precision))"
   ]
  },
  {
   "cell_type": "code",
   "execution_count": 25,
   "id": "a797f367-d4c3-4126-a36c-fa196da9d230",
   "metadata": {},
   "outputs": [
    {
     "name": "stdout",
     "output_type": "stream",
     "text": [
      "Recall score:  0.9333333333333333\n"
     ]
    }
   ],
   "source": [
    "#Recall: Considera TP/(TP+FN)\n",
    "recall = recall_score(y_test, pred)\n",
    "print('Recall score: ', format(recall))"
   ]
  },
  {
   "cell_type": "code",
   "execution_count": 26,
   "id": "ef4a7c35-9766-40ba-b911-a1e3573b248c",
   "metadata": {},
   "outputs": [
    {
     "name": "stdout",
     "output_type": "stream",
     "text": [
      "F1 score:  0.9438202247191012\n"
     ]
    }
   ],
   "source": [
    "#F1: Considera 2x((precision*recall)/(precision+recall))\n",
    "f1 = f1_score(y_test, pred)\n",
    "print('F1 score: ', format(f1))"
   ]
  }
 ],
 "metadata": {
  "kernelspec": {
   "display_name": "Python 3",
   "language": "python",
   "name": "python3"
  },
  "language_info": {
   "codemirror_mode": {
    "name": "ipython",
    "version": 3
   },
   "file_extension": ".py",
   "mimetype": "text/x-python",
   "name": "python",
   "nbconvert_exporter": "python",
   "pygments_lexer": "ipython3",
   "version": "3.8.8"
  }
 },
 "nbformat": 4,
 "nbformat_minor": 5
}
