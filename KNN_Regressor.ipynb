{
 "cells": [
  {
   "cell_type": "markdown",
   "id": "bff9c797-299d-4305-939b-e1c38313a066",
   "metadata": {},
   "source": [
    "# KNN para regresión\n",
    "- Fuente ejemplo: https://www.aprendemachinelearning.com/clasificar-con-k-nearest-neighbor-ejemplo-en-python/\n",
    "- Documentación: https://scikit-learn.org/stable/modules/generated/sklearn.neighbors.KNeighborsRegressor.html\n",
    "- Objetivo: Del ejemplo de KNN de clasificación, tomé otra variable respuesta\n",
    "\n",
    "Métricas: https://scikit-learn.org/stable/modules/model_evaluation.html\n"
   ]
  },
  {
   "cell_type": "markdown",
   "id": "6bcf375f-a06e-4e9c-82e1-24f58437c7ca",
   "metadata": {},
   "source": [
    "## 1. Cargar librerías y datos"
   ]
  },
  {
   "cell_type": "markdown",
   "id": "30a4e4ee-60a6-4e38-90df-87365c8cc27f",
   "metadata": {},
   "source": [
    "### Librerías"
   ]
  },
  {
   "cell_type": "code",
   "execution_count": 32,
   "id": "cb6fdfd8-61b2-4417-ad64-1c274acbd178",
   "metadata": {},
   "outputs": [],
   "source": [
    "#Manejo de datos\n",
    "import pandas as pd\n",
    "import numpy as np\n",
    "import matplotlib.pyplot as plt\n",
    "from matplotlib.colors import ListedColormap\n",
    "import matplotlib.patches as mpatches\n",
    "import seaborn as sb\n",
    "\n",
    "#Modelo\n",
    "from sklearn.model_selection import train_test_split\n",
    "from sklearn.preprocessing import MinMaxScaler\n",
    "from sklearn.neighbors import KNeighborsRegressor\n",
    "\n",
    "#Métricas\n",
    "from sklearn.metrics import mean_squared_error\n",
    "from sklearn.metrics import explained_variance_score"
   ]
  },
  {
   "cell_type": "code",
   "execution_count": 33,
   "id": "32959e5e-4371-4b8b-bd71-f0d672eeffef",
   "metadata": {},
   "outputs": [],
   "source": [
    "#Preparación de visualización\n",
    "%matplotlib inline\n",
    "plt.rcParams['figure.figsize'] = (16, 9)\n",
    "plt.style.use('ggplot')\n",
    " "
   ]
  },
  {
   "cell_type": "markdown",
   "id": "38bea295-c4d2-472a-b210-aecb4a77a97c",
   "metadata": {},
   "source": [
    "### Datos\n",
    "\n",
    "CSV con reviews de apps"
   ]
  },
  {
   "cell_type": "code",
   "execution_count": 34,
   "id": "bbc38aa8-e25d-44fb-8374-b37de1d7bee8",
   "metadata": {},
   "outputs": [
    {
     "data": {
      "text/html": [
       "<div>\n",
       "<style scoped>\n",
       "    .dataframe tbody tr th:only-of-type {\n",
       "        vertical-align: middle;\n",
       "    }\n",
       "\n",
       "    .dataframe tbody tr th {\n",
       "        vertical-align: top;\n",
       "    }\n",
       "\n",
       "    .dataframe thead th {\n",
       "        text-align: right;\n",
       "    }\n",
       "</style>\n",
       "<table border=\"1\" class=\"dataframe\">\n",
       "  <thead>\n",
       "    <tr style=\"text-align: right;\">\n",
       "      <th></th>\n",
       "      <th>Review Title</th>\n",
       "      <th>Review Text</th>\n",
       "      <th>wordcount</th>\n",
       "      <th>titleSentiment</th>\n",
       "      <th>textSentiment</th>\n",
       "      <th>Star Rating</th>\n",
       "      <th>sentimentValue</th>\n",
       "    </tr>\n",
       "  </thead>\n",
       "  <tbody>\n",
       "    <tr>\n",
       "      <th>0</th>\n",
       "      <td>Sin conexión</td>\n",
       "      <td>Hola desde hace algo más de un mes me pone sin...</td>\n",
       "      <td>23</td>\n",
       "      <td>negative</td>\n",
       "      <td>negative</td>\n",
       "      <td>1</td>\n",
       "      <td>-0.486389</td>\n",
       "    </tr>\n",
       "    <tr>\n",
       "      <th>1</th>\n",
       "      <td>faltan cosas</td>\n",
       "      <td>Han mejorado la apariencia pero no</td>\n",
       "      <td>20</td>\n",
       "      <td>negative</td>\n",
       "      <td>negative</td>\n",
       "      <td>1</td>\n",
       "      <td>-0.586187</td>\n",
       "    </tr>\n",
       "    <tr>\n",
       "      <th>2</th>\n",
       "      <td>Es muy buena lo recomiendo</td>\n",
       "      <td>Andres e puto amoooo</td>\n",
       "      <td>4</td>\n",
       "      <td>NaN</td>\n",
       "      <td>negative</td>\n",
       "      <td>1</td>\n",
       "      <td>-0.602240</td>\n",
       "    </tr>\n",
       "    <tr>\n",
       "      <th>3</th>\n",
       "      <td>Version antigua</td>\n",
       "      <td>Me gustana mas la version anterior esta es mas...</td>\n",
       "      <td>17</td>\n",
       "      <td>NaN</td>\n",
       "      <td>negative</td>\n",
       "      <td>1</td>\n",
       "      <td>-0.616271</td>\n",
       "    </tr>\n",
       "    <tr>\n",
       "      <th>4</th>\n",
       "      <td>Esta bien</td>\n",
       "      <td>Sin ser la biblia.... Esta bien</td>\n",
       "      <td>6</td>\n",
       "      <td>negative</td>\n",
       "      <td>negative</td>\n",
       "      <td>1</td>\n",
       "      <td>-0.651784</td>\n",
       "    </tr>\n",
       "    <tr>\n",
       "      <th>5</th>\n",
       "      <td>Buena</td>\n",
       "      <td>Nada del otro mundo pero han mejorado mucho</td>\n",
       "      <td>8</td>\n",
       "      <td>positive</td>\n",
       "      <td>negative</td>\n",
       "      <td>1</td>\n",
       "      <td>-0.720443</td>\n",
       "    </tr>\n",
       "    <tr>\n",
       "      <th>6</th>\n",
       "      <td>De gran ayuda</td>\n",
       "      <td>Lo malo q necesita de …,pero la app es muy buena</td>\n",
       "      <td>23</td>\n",
       "      <td>positive</td>\n",
       "      <td>negative</td>\n",
       "      <td>1</td>\n",
       "      <td>-0.726825</td>\n",
       "    </tr>\n",
       "    <tr>\n",
       "      <th>7</th>\n",
       "      <td>Muy buena</td>\n",
       "      <td>Estaba más acostumbrado al otro diseño, pero e...</td>\n",
       "      <td>16</td>\n",
       "      <td>positive</td>\n",
       "      <td>negative</td>\n",
       "      <td>1</td>\n",
       "      <td>-0.736769</td>\n",
       "    </tr>\n",
       "    <tr>\n",
       "      <th>8</th>\n",
       "      <td>Ta to guapa.</td>\n",
       "      <td>Va de escándalo</td>\n",
       "      <td>21</td>\n",
       "      <td>positive</td>\n",
       "      <td>negative</td>\n",
       "      <td>1</td>\n",
       "      <td>-0.765284</td>\n",
       "    </tr>\n",
       "    <tr>\n",
       "      <th>9</th>\n",
       "      <td>Se han corregido</td>\n",
       "      <td>Han corregido muchos fallos pero el diseño es ...</td>\n",
       "      <td>13</td>\n",
       "      <td>negative</td>\n",
       "      <td>negative</td>\n",
       "      <td>1</td>\n",
       "      <td>-0.797961</td>\n",
       "    </tr>\n",
       "  </tbody>\n",
       "</table>\n",
       "</div>"
      ],
      "text/plain": [
       "                 Review Title  \\\n",
       "0                Sin conexión   \n",
       "1                faltan cosas   \n",
       "2  Es muy buena lo recomiendo   \n",
       "3             Version antigua   \n",
       "4                   Esta bien   \n",
       "5                       Buena   \n",
       "6               De gran ayuda   \n",
       "7                   Muy buena   \n",
       "8                Ta to guapa.   \n",
       "9            Se han corregido   \n",
       "\n",
       "                                         Review Text  wordcount  \\\n",
       "0  Hola desde hace algo más de un mes me pone sin...         23   \n",
       "1                 Han mejorado la apariencia pero no         20   \n",
       "2                               Andres e puto amoooo          4   \n",
       "3  Me gustana mas la version anterior esta es mas...         17   \n",
       "4                    Sin ser la biblia.... Esta bien          6   \n",
       "5        Nada del otro mundo pero han mejorado mucho          8   \n",
       "6   Lo malo q necesita de …,pero la app es muy buena         23   \n",
       "7  Estaba más acostumbrado al otro diseño, pero e...         16   \n",
       "8                                    Va de escándalo         21   \n",
       "9  Han corregido muchos fallos pero el diseño es ...         13   \n",
       "\n",
       "  titleSentiment textSentiment  Star Rating  sentimentValue  \n",
       "0       negative      negative            1       -0.486389  \n",
       "1       negative      negative            1       -0.586187  \n",
       "2            NaN      negative            1       -0.602240  \n",
       "3            NaN      negative            1       -0.616271  \n",
       "4       negative      negative            1       -0.651784  \n",
       "5       positive      negative            1       -0.720443  \n",
       "6       positive      negative            1       -0.726825  \n",
       "7       positive      negative            1       -0.736769  \n",
       "8       positive      negative            1       -0.765284  \n",
       "9       negative      negative            1       -0.797961  "
      ]
     },
     "execution_count": 34,
     "metadata": {},
     "output_type": "execute_result"
    }
   ],
   "source": [
    "#Datos en estsa misma carpeta\n",
    "dataframe = pd.read_csv(r\"reviews_sentiment.csv\",sep=';')\n",
    "dataframe.head(10)"
   ]
  },
  {
   "cell_type": "markdown",
   "id": "293a421f-394b-4ce5-90a0-406a7bf3de76",
   "metadata": {},
   "source": [
    "## 2. Comprensión inicial de los datos\n",
    "### Datos generales"
   ]
  },
  {
   "cell_type": "code",
   "execution_count": 35,
   "id": "ff31f50c-ea0f-405f-96d4-2911acf9025c",
   "metadata": {},
   "outputs": [
    {
     "data": {
      "text/html": [
       "<div>\n",
       "<style scoped>\n",
       "    .dataframe tbody tr th:only-of-type {\n",
       "        vertical-align: middle;\n",
       "    }\n",
       "\n",
       "    .dataframe tbody tr th {\n",
       "        vertical-align: top;\n",
       "    }\n",
       "\n",
       "    .dataframe thead th {\n",
       "        text-align: right;\n",
       "    }\n",
       "</style>\n",
       "<table border=\"1\" class=\"dataframe\">\n",
       "  <thead>\n",
       "    <tr style=\"text-align: right;\">\n",
       "      <th></th>\n",
       "      <th>wordcount</th>\n",
       "      <th>Star Rating</th>\n",
       "      <th>sentimentValue</th>\n",
       "    </tr>\n",
       "  </thead>\n",
       "  <tbody>\n",
       "    <tr>\n",
       "      <th>count</th>\n",
       "      <td>257.000000</td>\n",
       "      <td>257.000000</td>\n",
       "      <td>257.000000</td>\n",
       "    </tr>\n",
       "    <tr>\n",
       "      <th>mean</th>\n",
       "      <td>11.501946</td>\n",
       "      <td>3.420233</td>\n",
       "      <td>0.383849</td>\n",
       "    </tr>\n",
       "    <tr>\n",
       "      <th>std</th>\n",
       "      <td>13.159812</td>\n",
       "      <td>1.409531</td>\n",
       "      <td>0.897987</td>\n",
       "    </tr>\n",
       "    <tr>\n",
       "      <th>min</th>\n",
       "      <td>1.000000</td>\n",
       "      <td>1.000000</td>\n",
       "      <td>-2.276469</td>\n",
       "    </tr>\n",
       "    <tr>\n",
       "      <th>25%</th>\n",
       "      <td>3.000000</td>\n",
       "      <td>3.000000</td>\n",
       "      <td>-0.108144</td>\n",
       "    </tr>\n",
       "    <tr>\n",
       "      <th>50%</th>\n",
       "      <td>7.000000</td>\n",
       "      <td>3.000000</td>\n",
       "      <td>0.264091</td>\n",
       "    </tr>\n",
       "    <tr>\n",
       "      <th>75%</th>\n",
       "      <td>16.000000</td>\n",
       "      <td>5.000000</td>\n",
       "      <td>0.808384</td>\n",
       "    </tr>\n",
       "    <tr>\n",
       "      <th>max</th>\n",
       "      <td>103.000000</td>\n",
       "      <td>5.000000</td>\n",
       "      <td>3.264579</td>\n",
       "    </tr>\n",
       "  </tbody>\n",
       "</table>\n",
       "</div>"
      ],
      "text/plain": [
       "        wordcount  Star Rating  sentimentValue\n",
       "count  257.000000   257.000000      257.000000\n",
       "mean    11.501946     3.420233        0.383849\n",
       "std     13.159812     1.409531        0.897987\n",
       "min      1.000000     1.000000       -2.276469\n",
       "25%      3.000000     3.000000       -0.108144\n",
       "50%      7.000000     3.000000        0.264091\n",
       "75%     16.000000     5.000000        0.808384\n",
       "max    103.000000     5.000000        3.264579"
      ]
     },
     "execution_count": 35,
     "metadata": {},
     "output_type": "execute_result"
    }
   ],
   "source": [
    "#Descripción general de los datos\n",
    "dataframe.describe()"
   ]
  },
  {
   "cell_type": "markdown",
   "id": "d981ea73-129e-4582-8e1e-1ec935a2baa6",
   "metadata": {},
   "source": [
    "### Revisión gráfica"
   ]
  },
  {
   "cell_type": "code",
   "execution_count": 36,
   "id": "3368ff78-bd6b-40c7-812e-376867e12f29",
   "metadata": {},
   "outputs": [
    {
     "data": {
      "image/png": "[encoded data removed]",
      "text/plain": [
       "<Figure size 1152x648 with 4 Axes>"
      ]
     },
     "metadata": {},
     "output_type": "display_data"
    }
   ],
   "source": [
    "#Histogramas de las variables numéricas\n",
    "dataframe.hist()\n",
    "plt.show()"
   ]
  },
  {
   "cell_type": "markdown",
   "id": "4bcf6166-57d3-49bd-9368-59dd87091713",
   "metadata": {},
   "source": [
    "### Revisión por columnas\n",
    "**Star Rating**"
   ]
  },
  {
   "cell_type": "code",
   "execution_count": 37,
   "id": "115f6628-08b4-4896-ab5e-8b5c0114e056",
   "metadata": {},
   "outputs": [
    {
     "name": "stdout",
     "output_type": "stream",
     "text": [
      "Star Rating\n",
      "1    37\n",
      "2    24\n",
      "3    78\n",
      "4    30\n",
      "5    88\n",
      "dtype: int64\n"
     ]
    }
   ],
   "source": [
    "# Revisión de estrellas\n",
    "print(dataframe.groupby('Star Rating').size())"
   ]
  },
  {
   "cell_type": "code",
   "execution_count": 38,
   "id": "e5983419-c9e4-4572-a492-a4711dbf4974",
   "metadata": {},
   "outputs": [
    {
     "name": "stdout",
     "output_type": "stream",
     "text": [
      "Star Rating\n",
      "1    14.396887\n",
      "2     9.338521\n",
      "3    30.350195\n",
      "4    11.673152\n",
      "5    34.241245\n",
      "dtype: float64\n"
     ]
    }
   ],
   "source": [
    "# Porcentaje por cantidad de estrellas\n",
    "print((dataframe.groupby('Star Rating').size()/len(dataframe))*100)"
   ]
  },
  {
   "cell_type": "code",
   "execution_count": 39,
   "id": "df582bd0-4788-45f1-a8fd-2034d523bfd1",
   "metadata": {},
   "outputs": [
    {
     "name": "stderr",
     "output_type": "stream",
     "text": [
      "C:\\Users\\auxis\\anaconda3\\lib\\site-packages\\seaborn\\categorical.py:3714: UserWarning: The `factorplot` function has been renamed to `catplot`. The original name will be removed in a future release. Please update your code. Note that the default `kind` in `factorplot` (`'point'`) has changed `'strip'` in `catplot`.\n",
      "  warnings.warn(msg)\n",
      "C:\\Users\\auxis\\anaconda3\\lib\\site-packages\\seaborn\\_decorators.py:36: FutureWarning: Pass the following variable as a keyword arg: x. From version 0.12, the only valid positional argument will be `data`, and passing other arguments without an explicit keyword will result in an error or misinterpretation.\n",
      "  warnings.warn(\n"
     ]
    },
    {
     "data": {
      "text/plain": [
       "<seaborn.axisgrid.FacetGrid at 0x26232e3f2e0>"
      ]
     },
     "execution_count": 39,
     "metadata": {},
     "output_type": "execute_result"
    },
    {
     "data": {
      "image/png": "[encoded data removed]",
      "text/plain": [
       "<Figure size 1080x360 with 1 Axes>"
      ]
     },
     "metadata": {},
     "output_type": "display_data"
    }
   ],
   "source": [
    "#Graficamente\n",
    "sb.factorplot('Star Rating',data=dataframe,kind=\"count\", aspect=3)"
   ]
  },
  {
   "cell_type": "markdown",
   "id": "6bb280b2-c582-42e3-8ec1-4e5eef137ad2",
   "metadata": {},
   "source": [
    "**WordCount**"
   ]
  },
  {
   "cell_type": "code",
   "execution_count": 40,
   "id": "d846c3a9-453d-4e02-9149-d11373f8ec68",
   "metadata": {},
   "outputs": [
    {
     "name": "stderr",
     "output_type": "stream",
     "text": [
      "C:\\Users\\auxis\\anaconda3\\lib\\site-packages\\seaborn\\categorical.py:3714: UserWarning: The `factorplot` function has been renamed to `catplot`. The original name will be removed in a future release. Please update your code. Note that the default `kind` in `factorplot` (`'point'`) has changed `'strip'` in `catplot`.\n",
      "  warnings.warn(msg)\n",
      "C:\\Users\\auxis\\anaconda3\\lib\\site-packages\\seaborn\\_decorators.py:36: FutureWarning: Pass the following variable as a keyword arg: x. From version 0.12, the only valid positional argument will be `data`, and passing other arguments without an explicit keyword will result in an error or misinterpretation.\n",
      "  warnings.warn(\n"
     ]
    },
    {
     "data": {
      "text/plain": [
       "<seaborn.axisgrid.FacetGrid at 0x26232ed4100>"
      ]
     },
     "execution_count": 40,
     "metadata": {},
     "output_type": "execute_result"
    },
    {
     "data": {
      "image/png": "[encoded data removed]",
      "text/plain": [
       "<Figure size 1080x360 with 1 Axes>"
      ]
     },
     "metadata": {},
     "output_type": "display_data"
    }
   ],
   "source": [
    "sb.factorplot('wordcount',data=dataframe,kind=\"count\", aspect=3)"
   ]
  },
  {
   "cell_type": "markdown",
   "id": "620a3aea-c52d-4bb9-8fc9-d76589d3cb1f",
   "metadata": {},
   "source": [
    "**SentimentValue**"
   ]
  },
  {
   "cell_type": "code",
   "execution_count": 41,
   "id": "23444073-d875-46e7-b00b-5a518320cc19",
   "metadata": {},
   "outputs": [
    {
     "data": {
      "text/plain": [
       "<AxesSubplot:>"
      ]
     },
     "execution_count": 41,
     "metadata": {},
     "output_type": "execute_result"
    },
    {
     "data": {
      "image/png": "[encoded data removed]",
      "text/plain": [
       "<Figure size 1152x648 with 1 Axes>"
      ]
     },
     "metadata": {},
     "output_type": "display_data"
    }
   ],
   "source": [
    "dataframe[['sentimentValue']].boxplot()"
   ]
  },
  {
   "cell_type": "markdown",
   "id": "d9447218-d619-416a-95ec-0704c1f081e7",
   "metadata": {},
   "source": [
    "## 3. Peparación de DataFrame"
   ]
  },
  {
   "cell_type": "markdown",
   "id": "6cc45562-9710-4fed-8159-b40af730047f",
   "metadata": {},
   "source": [
    "### DataFrame definitivo"
   ]
  },
  {
   "cell_type": "code",
   "execution_count": 42,
   "id": "37dd5cb2-e27c-4f78-915e-4040d72a8336",
   "metadata": {},
   "outputs": [
    {
     "name": "stdout",
     "output_type": "stream",
     "text": [
      "[[23  1]\n",
      " [20  1]\n",
      " [ 4  1]\n",
      " [17  1]\n",
      " [ 6  1]\n",
      " [ 8  1]\n",
      " [23  1]\n",
      " [16  1]\n",
      " [21  1]\n",
      " [13  1]]\n",
      "[-0.48638925 -0.58618747 -0.60224027 -0.61627121 -0.6517836  -0.72044293\n",
      " -0.72682541 -0.73676947 -0.7652837  -0.79796123]\n"
     ]
    }
   ],
   "source": [
    "#X: variables independientes\n",
    "X = dataframe[['wordcount','Star Rating']].values\n",
    "#primeros 10 valores\n",
    "print(X[0:10,])\n",
    "\n",
    "#Variable respuesta, dependiente\n",
    "y = dataframe['sentimentValue'].values\n",
    "#primeros 10 valores\n",
    "print(y[0:10,])"
   ]
  },
  {
   "cell_type": "markdown",
   "id": "8aae9be0-ea3c-4a89-998a-19ff778ed671",
   "metadata": {},
   "source": [
    "### Train-Test split"
   ]
  },
  {
   "cell_type": "code",
   "execution_count": 43,
   "id": "f5096833-a665-4983-993c-68a9aa4913b3",
   "metadata": {},
   "outputs": [
    {
     "name": "stdout",
     "output_type": "stream",
     "text": [
      "Train shape\n",
      "X_train:(192, 2)\n",
      "y_train:(192,)\n",
      "Test shape\n",
      "X_test:(65, 2)\n",
      "y_test:(65,)\n"
     ]
    }
   ],
   "source": [
    "#División del DataFrame\n",
    "X_train, X_test, y_train, y_test = train_test_split(X, y, random_state=0)\n",
    "print(\"Train shape\")\n",
    "print(\"X_train:\" + str(X_train.shape))\n",
    "print(\"y_train:\" + str(y_train.shape))\n",
    "print(\"Test shape\")\n",
    "print(\"X_test:\" + str(X_test.shape))\n",
    "print(\"y_test:\" + str(y_test.shape))\n"
   ]
  },
  {
   "cell_type": "markdown",
   "id": "7782ca89-57a7-4a62-a4b7-2bb038cbce44",
   "metadata": {},
   "source": [
    "### Estandarización\n",
    "MinMaxScaler"
   ]
  },
  {
   "cell_type": "code",
   "execution_count": 44,
   "id": "006a4575-ec49-45a5-b3e6-e5fa4af572c4",
   "metadata": {},
   "outputs": [
    {
     "name": "stdout",
     "output_type": "stream",
     "text": [
      "Train\n",
      "[[0.01333333 1.        ]\n",
      " [0.82666667 0.25      ]\n",
      " [0.06666667 0.5       ]\n",
      " [0.12       0.75      ]\n",
      " [0.10666667 1.        ]\n",
      " [0.01333333 1.        ]\n",
      " [0.         1.        ]\n",
      " [0.04       0.5       ]\n",
      " [0.33333333 0.        ]\n",
      " [0.02666667 0.5       ]]\n",
      "Test\n",
      "[[0.02666667 1.        ]\n",
      " [0.08       0.        ]\n",
      " [0.14666667 0.75      ]\n",
      " [0.22666667 0.5       ]\n",
      " [0.26666667 0.75      ]\n",
      " [0.12       1.        ]\n",
      " [0.06666667 0.5       ]\n",
      " [0.02666667 1.        ]\n",
      " [0.02666667 0.5       ]\n",
      " [0.21333333 0.75      ]]\n"
     ]
    }
   ],
   "source": [
    "#Estandarización\n",
    "scaler = MinMaxScaler()\n",
    "X_train = scaler.fit_transform(X_train)\n",
    "X_test = scaler.transform(X_test)\n",
    "\n",
    "print(\"Train\")\n",
    "print(X_train[0:10,])\n",
    "print(\"Test\")\n",
    "print(X_test[0:10,])"
   ]
  },
  {
   "cell_type": "markdown",
   "id": "a0d370a6-baa8-4560-96fc-6055a96255bd",
   "metadata": {},
   "source": [
    "## 4. Modelo\n",
    "KNN Regressor"
   ]
  },
  {
   "cell_type": "markdown",
   "id": "2c031e7c-ba17-4415-82d9-4c6aab8fa3b2",
   "metadata": {},
   "source": [
    "### 4.1 Modelo default\n",
    "KNN con K=5"
   ]
  },
  {
   "cell_type": "markdown",
   "id": "d4ea2780-6991-4394-a830-4ae43d942c63",
   "metadata": {},
   "source": [
    "#### Entrenamiento"
   ]
  },
  {
   "cell_type": "code",
   "execution_count": 45,
   "id": "6dd6c8d6-dbc3-4bb2-a8ca-7802173fbe60",
   "metadata": {},
   "outputs": [
    {
     "data": {
      "text/plain": [
       "KNeighborsRegressor()"
      ]
     },
     "execution_count": 45,
     "metadata": {},
     "output_type": "execute_result"
    }
   ],
   "source": [
    "#Entrenamiento del modelo\n",
    "neigh = KNeighborsRegressor(n_neighbors=5)\n",
    "neigh.fit(X_train, y_train)"
   ]
  },
  {
   "cell_type": "code",
   "execution_count": 46,
   "id": "2f93e5a6-d86a-40e4-bc6b-bf32706fa79b",
   "metadata": {},
   "outputs": [
    {
     "data": {
      "text/plain": [
       "0.6850112340536298"
      ]
     },
     "execution_count": 46,
     "metadata": {},
     "output_type": "execute_result"
    }
   ],
   "source": [
    "#Score: Coeficiente de determinación r^2\n",
    "neigh.score(X_train, y_train)"
   ]
  },
  {
   "cell_type": "code",
   "execution_count": 47,
   "id": "ea734a51-51f5-4b63-8d83-3edc772483c5",
   "metadata": {},
   "outputs": [
    {
     "name": "stdout",
     "output_type": "stream",
     "text": [
      "X_train\n",
      "[[0.02666667 1.        ]\n",
      " [0.08       0.        ]\n",
      " [0.14666667 0.75      ]\n",
      " [0.22666667 0.5       ]\n",
      " [0.26666667 0.75      ]]\n",
      "vecinos\n",
      "[[0.         0.         0.         0.         0.        ]\n",
      " [0.         0.         0.14666667 0.17333333 0.18666667]\n",
      " [0.         0.         0.         0.01333333 0.01333333]\n",
      " [0.         0.01333333 0.01333333 0.02666667 0.02666667]\n",
      " [0.         0.         0.         0.         0.        ]]\n",
      "distancias\n",
      "[[ 20 171   5   0 188]\n",
      " [  1  52  44  28  68]\n",
      " [152  63   2  37 107]\n",
      " [  3  58  38 136  78]\n",
      " [ 48   4 157  72 109]]\n"
     ]
    }
   ],
   "source": [
    "#Vecinos y distancias\n",
    "vecinos,distancia = neigh.kneighbors(X=X_train, n_neighbors=5, return_distance=True)\n",
    "print(\"X_train\")\n",
    "print(X_test[0:5,])\n",
    "print(\"vecinos\")\n",
    "print(vecinos[0:5,])\n",
    "print(\"distancias\")\n",
    "print(distancia[0:5,])"
   ]
  },
  {
   "cell_type": "markdown",
   "id": "f2639ff4-67e3-4329-beba-b1a5a46295b1",
   "metadata": {},
   "source": [
    "#### Predicción"
   ]
  },
  {
   "cell_type": "code",
   "execution_count": 48,
   "id": "0c0b1886-eb91-4b01-b263-e9b051681f7a",
   "metadata": {},
   "outputs": [
    {
     "data": {
      "text/plain": [
       "array([ 1.31777421, -0.81488433,  0.65092117,  0.02356087,  0.65720781,\n",
       "        0.94815585,  0.0067388 ,  1.31777421,  0.09910098,  0.9568884 ,\n",
       "        0.65720781,  1.62127899,  0.0067388 ,  1.22484401,  0.73691756,\n",
       "        0.04880435,  0.89307191,  1.62127899,  1.22484401, -0.01845434,\n",
       "        0.94815585,  0.0067388 ,  1.62127899,  1.02498379, -0.01605251,\n",
       "        1.31777421, -0.81762151,  0.0119411 ,  1.62127899, -0.11611882,\n",
       "        1.62127899, -0.17500063,  0.02182371,  0.94815585,  0.95110393,\n",
       "        0.9568884 ,  1.31777421, -0.85222092, -0.78957161,  1.62127899,\n",
       "        0.04880435, -0.79890767,  0.95110393,  1.62127899, -0.10788004,\n",
       "        0.0758313 ,  1.31777421,  0.09910098,  0.02356087,  0.65092117,\n",
       "        0.05345402,  1.62127899,  0.94815585,  0.02356087,  0.09910098,\n",
       "        0.99358683,  1.11802003, -0.72013802,  0.95110393, -0.8435979 ,\n",
       "        0.73691756, -0.79890767, -0.77600673, -0.78957161,  1.11802003])"
      ]
     },
     "execution_count": 48,
     "metadata": {},
     "output_type": "execute_result"
    }
   ],
   "source": [
    "#Aplicación del modelo a prueba\n",
    "predicciones = neigh.predict(X_test)\n",
    "predicciones"
   ]
  },
  {
   "cell_type": "code",
   "execution_count": 49,
   "id": "dbb8c532-401a-4b2b-891e-48835146a1f1",
   "metadata": {},
   "outputs": [
    {
     "data": {
      "text/plain": [
       "0.4726431988330574"
      ]
     },
     "execution_count": 49,
     "metadata": {},
     "output_type": "execute_result"
    }
   ],
   "source": [
    "#Score: Coeficiente de determinación r^2\n",
    "neigh.score(X_test, y_test)"
   ]
  },
  {
   "cell_type": "markdown",
   "id": "238a14a6-c26d-4e5e-929f-c45351a6726e",
   "metadata": {},
   "source": [
    "#### Tabla resultados"
   ]
  },
  {
   "cell_type": "code",
   "execution_count": 50,
   "id": "50ab24d4-662a-4a2b-865f-520e946ef6f1",
   "metadata": {},
   "outputs": [
    {
     "data": {
      "text/html": [
       "<div>\n",
       "<style scoped>\n",
       "    .dataframe tbody tr th:only-of-type {\n",
       "        vertical-align: middle;\n",
       "    }\n",
       "\n",
       "    .dataframe tbody tr th {\n",
       "        vertical-align: top;\n",
       "    }\n",
       "\n",
       "    .dataframe thead th {\n",
       "        text-align: right;\n",
       "    }\n",
       "</style>\n",
       "<table border=\"1\" class=\"dataframe\">\n",
       "  <thead>\n",
       "    <tr style=\"text-align: right;\">\n",
       "      <th></th>\n",
       "      <th>wordcount</th>\n",
       "      <th>Star prediction</th>\n",
       "      <th>sentimentValue</th>\n",
       "      <th>sentiment prediction</th>\n",
       "      <th>T/F</th>\n",
       "    </tr>\n",
       "  </thead>\n",
       "  <tbody>\n",
       "    <tr>\n",
       "      <th>0</th>\n",
       "      <td>0.026667</td>\n",
       "      <td>1.00</td>\n",
       "      <td>0.335548</td>\n",
       "      <td>1.317774</td>\n",
       "      <td>False</td>\n",
       "    </tr>\n",
       "    <tr>\n",
       "      <th>1</th>\n",
       "      <td>0.080000</td>\n",
       "      <td>0.00</td>\n",
       "      <td>-0.396850</td>\n",
       "      <td>-0.814884</td>\n",
       "      <td>False</td>\n",
       "    </tr>\n",
       "    <tr>\n",
       "      <th>2</th>\n",
       "      <td>0.146667</td>\n",
       "      <td>0.75</td>\n",
       "      <td>0.502011</td>\n",
       "      <td>0.650921</td>\n",
       "      <td>False</td>\n",
       "    </tr>\n",
       "    <tr>\n",
       "      <th>3</th>\n",
       "      <td>0.226667</td>\n",
       "      <td>0.50</td>\n",
       "      <td>0.104674</td>\n",
       "      <td>0.023561</td>\n",
       "      <td>False</td>\n",
       "    </tr>\n",
       "    <tr>\n",
       "      <th>4</th>\n",
       "      <td>0.266667</td>\n",
       "      <td>0.75</td>\n",
       "      <td>0.581934</td>\n",
       "      <td>0.657208</td>\n",
       "      <td>False</td>\n",
       "    </tr>\n",
       "    <tr>\n",
       "      <th>...</th>\n",
       "      <td>...</td>\n",
       "      <td>...</td>\n",
       "      <td>...</td>\n",
       "      <td>...</td>\n",
       "      <td>...</td>\n",
       "    </tr>\n",
       "    <tr>\n",
       "      <th>60</th>\n",
       "      <td>0.320000</td>\n",
       "      <td>0.75</td>\n",
       "      <td>0.808384</td>\n",
       "      <td>0.736918</td>\n",
       "      <td>False</td>\n",
       "    </tr>\n",
       "    <tr>\n",
       "      <th>61</th>\n",
       "      <td>0.040000</td>\n",
       "      <td>0.00</td>\n",
       "      <td>-0.256026</td>\n",
       "      <td>-0.798908</td>\n",
       "      <td>False</td>\n",
       "    </tr>\n",
       "    <tr>\n",
       "      <th>62</th>\n",
       "      <td>0.200000</td>\n",
       "      <td>0.00</td>\n",
       "      <td>-0.736769</td>\n",
       "      <td>-0.776007</td>\n",
       "      <td>False</td>\n",
       "    </tr>\n",
       "    <tr>\n",
       "      <th>63</th>\n",
       "      <td>0.226667</td>\n",
       "      <td>0.00</td>\n",
       "      <td>-0.493784</td>\n",
       "      <td>-0.789572</td>\n",
       "      <td>False</td>\n",
       "    </tr>\n",
       "    <tr>\n",
       "      <th>64</th>\n",
       "      <td>0.053333</td>\n",
       "      <td>1.00</td>\n",
       "      <td>0.670468</td>\n",
       "      <td>1.118020</td>\n",
       "      <td>False</td>\n",
       "    </tr>\n",
       "  </tbody>\n",
       "</table>\n",
       "<p>65 rows × 5 columns</p>\n",
       "</div>"
      ],
      "text/plain": [
       "    wordcount  Star prediction  sentimentValue  sentiment prediction    T/F\n",
       "0    0.026667             1.00        0.335548              1.317774  False\n",
       "1    0.080000             0.00       -0.396850             -0.814884  False\n",
       "2    0.146667             0.75        0.502011              0.650921  False\n",
       "3    0.226667             0.50        0.104674              0.023561  False\n",
       "4    0.266667             0.75        0.581934              0.657208  False\n",
       "..        ...              ...             ...                   ...    ...\n",
       "60   0.320000             0.75        0.808384              0.736918  False\n",
       "61   0.040000             0.00       -0.256026             -0.798908  False\n",
       "62   0.200000             0.00       -0.736769             -0.776007  False\n",
       "63   0.226667             0.00       -0.493784             -0.789572  False\n",
       "64   0.053333             1.00        0.670468              1.118020  False\n",
       "\n",
       "[65 rows x 5 columns]"
      ]
     },
     "execution_count": 50,
     "metadata": {},
     "output_type": "execute_result"
    }
   ],
   "source": [
    "tabla = pd.DataFrame(X_test)\n",
    "#renombrar columnas\n",
    "tabla = tabla.set_axis(['wordcount','Star prediction'], axis=1)\n",
    "#Agregar y_verdaderas\n",
    "tabla['sentimentValue'] = y_test\n",
    "#Agregar y de predicción\n",
    "tabla['sentiment prediction'] = predicciones\n",
    "tabla['T/F'] = tabla['sentiment prediction']==tabla['sentimentValue']\n",
    "tabla"
   ]
  },
  {
   "cell_type": "code",
   "execution_count": 51,
   "id": "cedb26bf-878d-4545-91b1-5897951b591b",
   "metadata": {},
   "outputs": [
    {
     "name": "stdout",
     "output_type": "stream",
     "text": [
      "False    65\n",
      "Name: T/F, dtype: int64\n",
      "False    100.0\n",
      "Name: T/F, dtype: float64\n"
     ]
    }
   ],
   "source": [
    "#Cantidad verdader/falso\n",
    "print(tabla['T/F'].value_counts())\n",
    "\n",
    "#Proporción verdader/falso\n",
    "print(((tabla['T/F'].value_counts())/len(tabla))*100)"
   ]
  },
  {
   "cell_type": "markdown",
   "id": "061b2cf8-296d-4b2a-9d03-03b07b6b533a",
   "metadata": {},
   "source": [
    "### 4.2 Modelo iteración\n",
    "KNN con K=7"
   ]
  },
  {
   "cell_type": "markdown",
   "id": "9778f600-e36c-4162-ba59-44d04b88fb6a",
   "metadata": {},
   "source": [
    "#### Entrenamiento"
   ]
  },
  {
   "cell_type": "code",
   "execution_count": 52,
   "id": "54827668-4944-4369-9f79-cbfa21fdbe74",
   "metadata": {},
   "outputs": [
    {
     "data": {
      "text/plain": [
       "KNeighborsRegressor(n_neighbors=7)"
      ]
     },
     "execution_count": 52,
     "metadata": {},
     "output_type": "execute_result"
    }
   ],
   "source": [
    "#Aplicación del modelo para entrenar\n",
    "n_neighbors = 7\n",
    "\n",
    "knn = KNeighborsRegressor(n_neighbors)\n",
    "knn.fit(X_train, y_train)"
   ]
  },
  {
   "cell_type": "code",
   "execution_count": 53,
   "id": "6e85190b-82c8-4273-a003-9f72e11d92db",
   "metadata": {},
   "outputs": [
    {
     "name": "stdout",
     "output_type": "stream",
     "text": [
      "r^2 of K-NN regressor on training set: 0.71\n"
     ]
    }
   ],
   "source": [
    "##Score: Coeficiente de determinación r^2\n",
    "print('r^2 of K-NN regressor on training set: {:.2f}'\n",
    "     .format(knn.score(X_train, y_train)))"
   ]
  },
  {
   "cell_type": "markdown",
   "id": "08957ca7-1a90-4b0e-bd75-9ecdf46514a7",
   "metadata": {},
   "source": [
    "#### Predicción"
   ]
  },
  {
   "cell_type": "code",
   "execution_count": 54,
   "id": "92859cb2-ade1-4256-9ebe-4c25d2da761b",
   "metadata": {},
   "outputs": [
    {
     "data": {
      "text/plain": [
       "array([ 1.38689969e+00, -7.64646790e-01,  6.69003628e-01,  4.62070537e-03,\n",
       "        7.95556036e-01,  9.12949240e-01,  1.65186472e-03,  1.38689969e+00,\n",
       "        3.32214744e-01,  9.27798074e-01,  7.95556036e-01,  1.78652877e+00,\n",
       "        1.65186472e-03,  1.13367779e+00,  6.67140730e-01,  3.92007018e-02,\n",
       "        9.03764802e-01,  1.78652877e+00,  1.13367779e+00,  1.38366529e-02,\n",
       "        9.12949240e-01,  1.65186472e-03,  1.78652877e+00,  9.27798074e-01,\n",
       "        3.20211214e-02,  1.38689969e+00, -8.29835364e-01,  4.29714928e-02,\n",
       "        1.78652877e+00, -1.68970975e-01,  1.78652877e+00, -1.78073458e-01,\n",
       "        4.21854833e-02,  9.65577040e-01,  8.63043853e-01,  9.27798074e-01,\n",
       "        1.38689969e+00, -7.64646790e-01, -8.21747200e-01,  1.78652877e+00,\n",
       "        3.92007018e-02, -9.58663816e-01,  8.63043853e-01,  1.78652877e+00,\n",
       "       -1.23132200e-01,  7.53599057e-02,  1.38689969e+00,  3.32214744e-01,\n",
       "       -6.13353831e-02,  6.69003628e-01,  6.32571032e-02,  1.78652877e+00,\n",
       "        9.65577040e-01,  4.62070537e-03,  3.32214744e-01,  1.48388987e+00,\n",
       "        1.13367779e+00, -6.85644896e-01,  8.63043853e-01, -8.26806863e-01,\n",
       "        6.67140730e-01, -9.58663816e-01, -7.19112179e-01, -8.21747200e-01,\n",
       "        1.13367779e+00])"
      ]
     },
     "execution_count": 54,
     "metadata": {},
     "output_type": "execute_result"
    }
   ],
   "source": [
    "#Aplicación del modelo a la prueba\n",
    "predicciones = knn.predict(X_test)\n",
    "predicciones"
   ]
  },
  {
   "cell_type": "code",
   "execution_count": 55,
   "id": "ddfdf23f-02b4-420c-8dc5-74b37b7578ec",
   "metadata": {},
   "outputs": [
    {
     "name": "stdout",
     "output_type": "stream",
     "text": [
      "r^2 of K-NN regressor on test set: 0.433\n"
     ]
    }
   ],
   "source": [
    "#Score: r^2 of K-NN regressor on\n",
    "print('r^2 of K-NN regressor on test set: {:.3f}'\n",
    "     .format(knn.score(X_test, y_test)))"
   ]
  },
  {
   "cell_type": "markdown",
   "id": "35b5fc82-f093-46a6-a3e5-2ca0be548413",
   "metadata": {},
   "source": [
    "#### Métricas de error"
   ]
  },
  {
   "cell_type": "code",
   "execution_count": 56,
   "id": "6c378dea-45f3-4d43-a83e-e68dddd71d2e",
   "metadata": {},
   "outputs": [
    {
     "data": {
      "text/plain": [
       "0.420815858023357"
      ]
     },
     "execution_count": 56,
     "metadata": {},
     "output_type": "execute_result"
    }
   ],
   "source": [
    "#Error cuadrado: Mean squared error regression loss\n",
    "mean_squared_error(y_test, predicciones) "
   ]
  },
  {
   "cell_type": "code",
   "execution_count": 57,
   "id": "75dea82d-f5c7-4014-88d7-22ac095e6b11",
   "metadata": {},
   "outputs": [
    {
     "data": {
      "text/plain": [
       "0.47070595613546307"
      ]
     },
     "execution_count": 57,
     "metadata": {},
     "output_type": "execute_result"
    }
   ],
   "source": [
    "#Varianza explicada\n",
    "explained_variance_score(y_test, predicciones) "
   ]
  },
  {
   "cell_type": "markdown",
   "id": "42dbb51d-c147-4a5b-bef3-b3becf3f5b96",
   "metadata": {},
   "source": [
    "## 5. Mejor K\n",
    "Iteración de los valores k"
   ]
  },
  {
   "cell_type": "raw",
   "id": "d8397038-6278-43f9-8497-e7358b0f95f5",
   "metadata": {},
   "source": [
    "#Definir rango para evaluar la cantidad de K\n",
    "k_range = range(1, 31)\n",
    "#Lista de r^2 resultante\n",
    "scores = []\n",
    "\n",
    "#Ciclo de variación\n",
    "for k in k_range:\n",
    "    knn = KNeighborsRegressor(n_neighbors = k)\n",
    "    knn.fit(X_train, y_train)\n",
    "    scores.append(knn.score(X_test, y_test))\n",
    "\n",
    "plt.figure()\n",
    "plt.xlabel('k')\n",
    "plt.ylabel('r^2')\n",
    "plt.scatter(k_range, scores)\n",
    "plt.xticks([0,5,10,15,20,30])"
   ]
  },
  {
   "cell_type": "code",
   "execution_count": 58,
   "id": "16f5623d-167b-4776-99fe-73e6a36c5029",
   "metadata": {},
   "outputs": [
    {
     "data": {
      "text/html": [
       "<div>\n",
       "<style scoped>\n",
       "    .dataframe tbody tr th:only-of-type {\n",
       "        vertical-align: middle;\n",
       "    }\n",
       "\n",
       "    .dataframe tbody tr th {\n",
       "        vertical-align: top;\n",
       "    }\n",
       "\n",
       "    .dataframe thead th {\n",
       "        text-align: right;\n",
       "    }\n",
       "</style>\n",
       "<table border=\"1\" class=\"dataframe\">\n",
       "  <thead>\n",
       "    <tr style=\"text-align: right;\">\n",
       "      <th></th>\n",
       "      <th>0</th>\n",
       "      <th>r^2</th>\n",
       "    </tr>\n",
       "  </thead>\n",
       "  <tbody>\n",
       "    <tr>\n",
       "      <th>0</th>\n",
       "      <td>1</td>\n",
       "      <td>0.157202</td>\n",
       "    </tr>\n",
       "    <tr>\n",
       "      <th>1</th>\n",
       "      <td>2</td>\n",
       "      <td>0.322446</td>\n",
       "    </tr>\n",
       "    <tr>\n",
       "      <th>2</th>\n",
       "      <td>3</td>\n",
       "      <td>0.386573</td>\n",
       "    </tr>\n",
       "    <tr>\n",
       "      <th>3</th>\n",
       "      <td>4</td>\n",
       "      <td>0.472783</td>\n",
       "    </tr>\n",
       "    <tr>\n",
       "      <th>4</th>\n",
       "      <td>5</td>\n",
       "      <td>0.472643</td>\n",
       "    </tr>\n",
       "    <tr>\n",
       "      <th>5</th>\n",
       "      <td>6</td>\n",
       "      <td>0.428131</td>\n",
       "    </tr>\n",
       "    <tr>\n",
       "      <th>6</th>\n",
       "      <td>7</td>\n",
       "      <td>0.433277</td>\n",
       "    </tr>\n",
       "    <tr>\n",
       "      <th>7</th>\n",
       "      <td>8</td>\n",
       "      <td>0.449899</td>\n",
       "    </tr>\n",
       "    <tr>\n",
       "      <th>8</th>\n",
       "      <td>9</td>\n",
       "      <td>0.455685</td>\n",
       "    </tr>\n",
       "    <tr>\n",
       "      <th>9</th>\n",
       "      <td>10</td>\n",
       "      <td>0.427460</td>\n",
       "    </tr>\n",
       "    <tr>\n",
       "      <th>10</th>\n",
       "      <td>11</td>\n",
       "      <td>0.464003</td>\n",
       "    </tr>\n",
       "    <tr>\n",
       "      <th>11</th>\n",
       "      <td>12</td>\n",
       "      <td>0.469591</td>\n",
       "    </tr>\n",
       "    <tr>\n",
       "      <th>12</th>\n",
       "      <td>13</td>\n",
       "      <td>0.478853</td>\n",
       "    </tr>\n",
       "    <tr>\n",
       "      <th>13</th>\n",
       "      <td>14</td>\n",
       "      <td>0.486384</td>\n",
       "    </tr>\n",
       "    <tr>\n",
       "      <th>14</th>\n",
       "      <td>15</td>\n",
       "      <td>0.487414</td>\n",
       "    </tr>\n",
       "    <tr>\n",
       "      <th>15</th>\n",
       "      <td>16</td>\n",
       "      <td>0.489304</td>\n",
       "    </tr>\n",
       "    <tr>\n",
       "      <th>16</th>\n",
       "      <td>17</td>\n",
       "      <td>0.517369</td>\n",
       "    </tr>\n",
       "    <tr>\n",
       "      <th>17</th>\n",
       "      <td>18</td>\n",
       "      <td>0.511753</td>\n",
       "    </tr>\n",
       "    <tr>\n",
       "      <th>18</th>\n",
       "      <td>19</td>\n",
       "      <td>0.503872</td>\n",
       "    </tr>\n",
       "    <tr>\n",
       "      <th>19</th>\n",
       "      <td>20</td>\n",
       "      <td>0.502969</td>\n",
       "    </tr>\n",
       "    <tr>\n",
       "      <th>20</th>\n",
       "      <td>21</td>\n",
       "      <td>0.520374</td>\n",
       "    </tr>\n",
       "    <tr>\n",
       "      <th>21</th>\n",
       "      <td>22</td>\n",
       "      <td>0.520253</td>\n",
       "    </tr>\n",
       "    <tr>\n",
       "      <th>22</th>\n",
       "      <td>23</td>\n",
       "      <td>0.512805</td>\n",
       "    </tr>\n",
       "    <tr>\n",
       "      <th>23</th>\n",
       "      <td>24</td>\n",
       "      <td>0.515785</td>\n",
       "    </tr>\n",
       "    <tr>\n",
       "      <th>24</th>\n",
       "      <td>25</td>\n",
       "      <td>0.527715</td>\n",
       "    </tr>\n",
       "    <tr>\n",
       "      <th>25</th>\n",
       "      <td>26</td>\n",
       "      <td>0.515948</td>\n",
       "    </tr>\n",
       "    <tr>\n",
       "      <th>26</th>\n",
       "      <td>27</td>\n",
       "      <td>0.506394</td>\n",
       "    </tr>\n",
       "    <tr>\n",
       "      <th>27</th>\n",
       "      <td>28</td>\n",
       "      <td>0.526036</td>\n",
       "    </tr>\n",
       "    <tr>\n",
       "      <th>28</th>\n",
       "      <td>29</td>\n",
       "      <td>0.520947</td>\n",
       "    </tr>\n",
       "    <tr>\n",
       "      <th>29</th>\n",
       "      <td>30</td>\n",
       "      <td>0.508332</td>\n",
       "    </tr>\n",
       "  </tbody>\n",
       "</table>\n",
       "</div>"
      ],
      "text/plain": [
       "     0       r^2\n",
       "0    1  0.157202\n",
       "1    2  0.322446\n",
       "2    3  0.386573\n",
       "3    4  0.472783\n",
       "4    5  0.472643\n",
       "5    6  0.428131\n",
       "6    7  0.433277\n",
       "7    8  0.449899\n",
       "8    9  0.455685\n",
       "9   10  0.427460\n",
       "10  11  0.464003\n",
       "11  12  0.469591\n",
       "12  13  0.478853\n",
       "13  14  0.486384\n",
       "14  15  0.487414\n",
       "15  16  0.489304\n",
       "16  17  0.517369\n",
       "17  18  0.511753\n",
       "18  19  0.503872\n",
       "19  20  0.502969\n",
       "20  21  0.520374\n",
       "21  22  0.520253\n",
       "22  23  0.512805\n",
       "23  24  0.515785\n",
       "24  25  0.527715\n",
       "25  26  0.515948\n",
       "26  27  0.506394\n",
       "27  28  0.526036\n",
       "28  29  0.520947\n",
       "29  30  0.508332"
      ]
     },
     "execution_count": 58,
     "metadata": {},
     "output_type": "execute_result"
    }
   ],
   "source": [
    "k_variation = pd.DataFrame(k_range)\n",
    "k_variation['r^2'] = scores\n",
    "k_variation"
   ]
  }
 ],
 "metadata": {
  "kernelspec": {
   "display_name": "Python 3",
   "language": "python",
   "name": "python3"
  },
  "language_info": {
   "codemirror_mode": {
    "name": "ipython",
    "version": 3
   },
   "file_extension": ".py",
   "mimetype": "text/x-python",
   "name": "python",
   "nbconvert_exporter": "python",
   "pygments_lexer": "ipython3",
   "version": "3.8.8"
  }
 },
 "nbformat": 4,
 "nbformat_minor": 5
}
